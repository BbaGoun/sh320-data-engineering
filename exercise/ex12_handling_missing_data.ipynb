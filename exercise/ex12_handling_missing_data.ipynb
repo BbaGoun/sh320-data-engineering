{
 "cells": [
  {
   "cell_type": "markdown",
   "metadata": {},
   "source": [
    "## <strong> 12. 결측 데이터 처리"
   ]
  },
  {
   "cell_type": "code",
   "execution_count": 40,
   "metadata": {},
   "outputs": [],
   "source": [
    "# 필요한 라이브러리\n",
    "import pandas as pd\n",
    "import numpy as np"
   ]
  },
  {
   "cell_type": "markdown",
   "metadata": {},
   "source": [
    "#### <strong> 결측치의 표현: None 객체"
   ]
  },
  {
   "cell_type": "code",
   "execution_count": 41,
   "metadata": {},
   "outputs": [
    {
     "name": "stdout",
     "output_type": "stream",
     "text": [
      "object\n",
      "int64\n"
     ]
    }
   ],
   "source": [
    "# None 객체를 포함한 배열\n",
    "arr1 = np.array([1, 2, None, 4])\n",
    "print(arr1.dtype)\n",
    "\n",
    "# 결측치가 없는 배열\n",
    "arr2 = np.array([1, 2, 3, 4])\n",
    "print(arr2.dtype)"
   ]
  },
  {
   "cell_type": "code",
   "execution_count": 42,
   "metadata": {},
   "outputs": [
    {
     "ename": "TypeError",
     "evalue": "unsupported operand type(s) for +: 'int' and 'NoneType'",
     "output_type": "error",
     "traceback": [
      "\u001b[31m---------------------------------------------------------------------------\u001b[39m",
      "\u001b[31mTypeError\u001b[39m                                 Traceback (most recent call last)",
      "\u001b[36mCell\u001b[39m\u001b[36m \u001b[39m\u001b[32mIn[42]\u001b[39m\u001b[32m, line 2\u001b[39m\n\u001b[32m      1\u001b[39m \u001b[38;5;66;03m# Object 객체는 numpy, pandas 연산과 호환되지 않음\u001b[39;00m\n\u001b[32m----> \u001b[39m\u001b[32m2\u001b[39m \u001b[43marr1\u001b[49m\u001b[43m.\u001b[49m\u001b[43msum\u001b[49m\u001b[43m(\u001b[49m\u001b[43m)\u001b[49m\n",
      "\u001b[36mFile \u001b[39m\u001b[32mc:\\Users\\SangminPark\\anaconda3\\envs\\stock_program\\Lib\\site-packages\\numpy\\_core\\_methods.py:53\u001b[39m, in \u001b[36m_sum\u001b[39m\u001b[34m(a, axis, dtype, out, keepdims, initial, where)\u001b[39m\n\u001b[32m     51\u001b[39m \u001b[38;5;28;01mdef\u001b[39;00m\u001b[38;5;250m \u001b[39m\u001b[34m_sum\u001b[39m(a, axis=\u001b[38;5;28;01mNone\u001b[39;00m, dtype=\u001b[38;5;28;01mNone\u001b[39;00m, out=\u001b[38;5;28;01mNone\u001b[39;00m, keepdims=\u001b[38;5;28;01mFalse\u001b[39;00m,\n\u001b[32m     52\u001b[39m          initial=_NoValue, where=\u001b[38;5;28;01mTrue\u001b[39;00m):\n\u001b[32m---> \u001b[39m\u001b[32m53\u001b[39m     \u001b[38;5;28;01mreturn\u001b[39;00m umr_sum(a, axis, dtype, out, keepdims, initial, where)\n",
      "\u001b[31mTypeError\u001b[39m: unsupported operand type(s) for +: 'int' and 'NoneType'"
     ]
    }
   ],
   "source": [
    "# Object 객체는 numpy, pandas 연산과 호환되지 않음\n",
    "arr1.sum()"
   ]
  },
  {
   "cell_type": "markdown",
   "metadata": {},
   "source": [
    "#### <strong> 결측치의 표현: NaN 값"
   ]
  },
  {
   "cell_type": "code",
   "execution_count": 4,
   "metadata": {},
   "outputs": [
    {
     "data": {
      "text/plain": [
       "dtype('float64')"
      ]
     },
     "execution_count": 4,
     "metadata": {},
     "output_type": "execute_result"
    }
   ],
   "source": [
    "# NaN 값을 포함한 배열 객체\n",
    "arr3 = np.array([1, np.nan, 3, 4])\n",
    "arr3.dtype"
   ]
  },
  {
   "cell_type": "code",
   "execution_count": 5,
   "metadata": {},
   "outputs": [
    {
     "name": "stdout",
     "output_type": "stream",
     "text": [
      "nan\n",
      "nan\n",
      "nan\n"
     ]
    }
   ],
   "source": [
    "# NaN 값에 대한 산술 연산\n",
    "print(1 + np.nan)\n",
    "print(0 * np.nan)\n",
    "print(arr3.sum())"
   ]
  },
  {
   "cell_type": "code",
   "execution_count": 6,
   "metadata": {},
   "outputs": [
    {
     "name": "stdout",
     "output_type": "stream",
     "text": [
      "8.0\n",
      "4.0\n",
      "1.0\n"
     ]
    }
   ],
   "source": [
    "# NaN값을 무시하는 집계함수(numpy)\n",
    "print(np.nansum(arr3))\n",
    "print(np.nanmax(arr3))\n",
    "print(np.nanmin(arr3))"
   ]
  },
  {
   "cell_type": "code",
   "execution_count": 7,
   "metadata": {},
   "outputs": [
    {
     "name": "stdout",
     "output_type": "stream",
     "text": [
      "0    1.0\n",
      "1    NaN\n",
      "2    2.0\n",
      "3    NaN\n",
      "dtype: float64\n"
     ]
    }
   ],
   "source": [
    "# Pandas는 None 객체를 자동으로 NaN값으로 변환한다.\n",
    "\n",
    "ser = pd.Series([1, np.nan, 2, None])\n",
    "print(ser)"
   ]
  },
  {
   "cell_type": "markdown",
   "metadata": {},
   "source": [
    "### <strong> Pandas를 이용한 결측치 처리\n",
    "---"
   ]
  },
  {
   "cell_type": "markdown",
   "metadata": {},
   "source": [
    "#### <strong>마스킹을 통한 Null 값 표현\n",
    "+ ```isnull()```\n",
    "+ ```notnull()```"
   ]
  },
  {
   "cell_type": "code",
   "execution_count": 8,
   "metadata": {},
   "outputs": [],
   "source": [
    "# [+] 결측치를 포함한 Series 객체 생성\n",
    "ser = pd.Series([1, 2, 3, np.nan])"
   ]
  },
  {
   "cell_type": "code",
   "execution_count": 9,
   "metadata": {},
   "outputs": [
    {
     "data": {
      "text/plain": [
       "0    False\n",
       "1    False\n",
       "2    False\n",
       "3     True\n",
       "dtype: bool"
      ]
     },
     "execution_count": 9,
     "metadata": {},
     "output_type": "execute_result"
    }
   ],
   "source": [
    "# [+] isnull()\n",
    "ser.isnull()"
   ]
  },
  {
   "cell_type": "code",
   "execution_count": 10,
   "metadata": {},
   "outputs": [
    {
     "data": {
      "text/plain": [
       "0     True\n",
       "1     True\n",
       "2     True\n",
       "3    False\n",
       "dtype: bool"
      ]
     },
     "execution_count": 10,
     "metadata": {},
     "output_type": "execute_result"
    }
   ],
   "source": [
    "# [+] notnull()\n",
    "ser.notnull()"
   ]
  },
  {
   "cell_type": "markdown",
   "metadata": {},
   "source": [
    "#### <strong> 결측치를 포함한 행 또는 열 삭제\n",
    "+ dropna()"
   ]
  },
  {
   "cell_type": "code",
   "execution_count": 11,
   "metadata": {},
   "outputs": [
    {
     "data": {
      "text/html": [
       "<div>\n",
       "<style scoped>\n",
       "    .dataframe tbody tr th:only-of-type {\n",
       "        vertical-align: middle;\n",
       "    }\n",
       "\n",
       "    .dataframe tbody tr th {\n",
       "        vertical-align: top;\n",
       "    }\n",
       "\n",
       "    .dataframe thead th {\n",
       "        text-align: right;\n",
       "    }\n",
       "</style>\n",
       "<table border=\"1\" class=\"dataframe\">\n",
       "  <thead>\n",
       "    <tr style=\"text-align: right;\">\n",
       "      <th></th>\n",
       "      <th>A</th>\n",
       "      <th>B</th>\n",
       "      <th>C</th>\n",
       "    </tr>\n",
       "  </thead>\n",
       "  <tbody>\n",
       "    <tr>\n",
       "      <th>0</th>\n",
       "      <td>A0</td>\n",
       "      <td>B0</td>\n",
       "      <td>C0</td>\n",
       "    </tr>\n",
       "    <tr>\n",
       "      <th>1</th>\n",
       "      <td>A1</td>\n",
       "      <td>B1</td>\n",
       "      <td>C1</td>\n",
       "    </tr>\n",
       "    <tr>\n",
       "      <th>2</th>\n",
       "      <td>A2</td>\n",
       "      <td>B2</td>\n",
       "      <td>C2</td>\n",
       "    </tr>\n",
       "  </tbody>\n",
       "</table>\n",
       "</div>"
      ],
      "text/plain": [
       "    A   B   C\n",
       "0  A0  B0  C0\n",
       "1  A1  B1  C1\n",
       "2  A2  B2  C2"
      ]
     },
     "execution_count": 11,
     "metadata": {},
     "output_type": "execute_result"
    }
   ],
   "source": [
    "# DataFrame 생성 함수\n",
    "def make_df(cols, ind):\n",
    "    data = {c: [str(c) + str(i) for i in ind]\n",
    "           for c in cols}\n",
    "\n",
    "    return pd.DataFrame(data, ind)\n",
    "\n",
    "df = make_df('ABC', [0, 1, 2])\n",
    "df"
   ]
  },
  {
   "cell_type": "code",
   "execution_count": 12,
   "metadata": {},
   "outputs": [
    {
     "data": {
      "text/html": [
       "<div>\n",
       "<style scoped>\n",
       "    .dataframe tbody tr th:only-of-type {\n",
       "        vertical-align: middle;\n",
       "    }\n",
       "\n",
       "    .dataframe tbody tr th {\n",
       "        vertical-align: top;\n",
       "    }\n",
       "\n",
       "    .dataframe thead th {\n",
       "        text-align: right;\n",
       "    }\n",
       "</style>\n",
       "<table border=\"1\" class=\"dataframe\">\n",
       "  <thead>\n",
       "    <tr style=\"text-align: right;\">\n",
       "      <th></th>\n",
       "      <th>A</th>\n",
       "      <th>B</th>\n",
       "      <th>C</th>\n",
       "    </tr>\n",
       "  </thead>\n",
       "  <tbody>\n",
       "    <tr>\n",
       "      <th>0</th>\n",
       "      <td>A0</td>\n",
       "      <td>NaN</td>\n",
       "      <td>C0</td>\n",
       "    </tr>\n",
       "    <tr>\n",
       "      <th>1</th>\n",
       "      <td>NaN</td>\n",
       "      <td>B1</td>\n",
       "      <td>C1</td>\n",
       "    </tr>\n",
       "    <tr>\n",
       "      <th>2</th>\n",
       "      <td>A2</td>\n",
       "      <td>B2</td>\n",
       "      <td>C2</td>\n",
       "    </tr>\n",
       "  </tbody>\n",
       "</table>\n",
       "</div>"
      ],
      "text/plain": [
       "     A    B   C\n",
       "0   A0  NaN  C0\n",
       "1  NaN   B1  C1\n",
       "2   A2   B2  C2"
      ]
     },
     "execution_count": 12,
     "metadata": {},
     "output_type": "execute_result"
    }
   ],
   "source": [
    "# [+] NaN 값 추가\n",
    "df.iloc[0, 1] = np.nan\n",
    "df.iloc[1, 0] = np.nan\n",
    "df"
   ]
  },
  {
   "cell_type": "code",
   "execution_count": 13,
   "metadata": {},
   "outputs": [
    {
     "data": {
      "text/html": [
       "<div>\n",
       "<style scoped>\n",
       "    .dataframe tbody tr th:only-of-type {\n",
       "        vertical-align: middle;\n",
       "    }\n",
       "\n",
       "    .dataframe tbody tr th {\n",
       "        vertical-align: top;\n",
       "    }\n",
       "\n",
       "    .dataframe thead th {\n",
       "        text-align: right;\n",
       "    }\n",
       "</style>\n",
       "<table border=\"1\" class=\"dataframe\">\n",
       "  <thead>\n",
       "    <tr style=\"text-align: right;\">\n",
       "      <th></th>\n",
       "      <th>A</th>\n",
       "      <th>B</th>\n",
       "      <th>C</th>\n",
       "    </tr>\n",
       "  </thead>\n",
       "  <tbody>\n",
       "    <tr>\n",
       "      <th>2</th>\n",
       "      <td>A2</td>\n",
       "      <td>B2</td>\n",
       "      <td>C2</td>\n",
       "    </tr>\n",
       "  </tbody>\n",
       "</table>\n",
       "</div>"
      ],
      "text/plain": [
       "    A   B   C\n",
       "2  A2  B2  C2"
      ]
     },
     "execution_count": 13,
     "metadata": {},
     "output_type": "execute_result"
    }
   ],
   "source": [
    "# [+] 결측치를 포함한 행 삭제\n",
    "df.dropna(axis=0)"
   ]
  },
  {
   "cell_type": "code",
   "execution_count": 14,
   "metadata": {},
   "outputs": [
    {
     "data": {
      "text/html": [
       "<div>\n",
       "<style scoped>\n",
       "    .dataframe tbody tr th:only-of-type {\n",
       "        vertical-align: middle;\n",
       "    }\n",
       "\n",
       "    .dataframe tbody tr th {\n",
       "        vertical-align: top;\n",
       "    }\n",
       "\n",
       "    .dataframe thead th {\n",
       "        text-align: right;\n",
       "    }\n",
       "</style>\n",
       "<table border=\"1\" class=\"dataframe\">\n",
       "  <thead>\n",
       "    <tr style=\"text-align: right;\">\n",
       "      <th></th>\n",
       "      <th>C</th>\n",
       "    </tr>\n",
       "  </thead>\n",
       "  <tbody>\n",
       "    <tr>\n",
       "      <th>0</th>\n",
       "      <td>C0</td>\n",
       "    </tr>\n",
       "    <tr>\n",
       "      <th>1</th>\n",
       "      <td>C1</td>\n",
       "    </tr>\n",
       "    <tr>\n",
       "      <th>2</th>\n",
       "      <td>C2</td>\n",
       "    </tr>\n",
       "  </tbody>\n",
       "</table>\n",
       "</div>"
      ],
      "text/plain": [
       "    C\n",
       "0  C0\n",
       "1  C1\n",
       "2  C2"
      ]
     },
     "execution_count": 14,
     "metadata": {},
     "output_type": "execute_result"
    }
   ],
   "source": [
    "# [+] 결측치를 포함한 열 삭제\n",
    "df.dropna(axis=1)"
   ]
  },
  {
   "cell_type": "code",
   "execution_count": 15,
   "metadata": {},
   "outputs": [
    {
     "data": {
      "text/html": [
       "<div>\n",
       "<style scoped>\n",
       "    .dataframe tbody tr th:only-of-type {\n",
       "        vertical-align: middle;\n",
       "    }\n",
       "\n",
       "    .dataframe tbody tr th {\n",
       "        vertical-align: top;\n",
       "    }\n",
       "\n",
       "    .dataframe thead th {\n",
       "        text-align: right;\n",
       "    }\n",
       "</style>\n",
       "<table border=\"1\" class=\"dataframe\">\n",
       "  <thead>\n",
       "    <tr style=\"text-align: right;\">\n",
       "      <th></th>\n",
       "      <th>A</th>\n",
       "      <th>B</th>\n",
       "      <th>C</th>\n",
       "    </tr>\n",
       "  </thead>\n",
       "  <tbody>\n",
       "    <tr>\n",
       "      <th>0</th>\n",
       "      <td>NaN</td>\n",
       "      <td>NaN</td>\n",
       "      <td>C0</td>\n",
       "    </tr>\n",
       "    <tr>\n",
       "      <th>1</th>\n",
       "      <td>NaN</td>\n",
       "      <td>B1</td>\n",
       "      <td>C1</td>\n",
       "    </tr>\n",
       "    <tr>\n",
       "      <th>2</th>\n",
       "      <td>NaN</td>\n",
       "      <td>B2</td>\n",
       "      <td>C2</td>\n",
       "    </tr>\n",
       "  </tbody>\n",
       "</table>\n",
       "</div>"
      ],
      "text/plain": [
       "     A    B   C\n",
       "0  NaN  NaN  C0\n",
       "1  NaN   B1  C1\n",
       "2  NaN   B2  C2"
      ]
     },
     "execution_count": 15,
     "metadata": {},
     "output_type": "execute_result"
    }
   ],
   "source": [
    "# [+] NaN 값 추가\n",
    "df.iloc[:, 0] = np.nan\n",
    "df"
   ]
  },
  {
   "cell_type": "code",
   "execution_count": 16,
   "metadata": {},
   "outputs": [
    {
     "data": {
      "text/html": [
       "<div>\n",
       "<style scoped>\n",
       "    .dataframe tbody tr th:only-of-type {\n",
       "        vertical-align: middle;\n",
       "    }\n",
       "\n",
       "    .dataframe tbody tr th {\n",
       "        vertical-align: top;\n",
       "    }\n",
       "\n",
       "    .dataframe thead th {\n",
       "        text-align: right;\n",
       "    }\n",
       "</style>\n",
       "<table border=\"1\" class=\"dataframe\">\n",
       "  <thead>\n",
       "    <tr style=\"text-align: right;\">\n",
       "      <th></th>\n",
       "      <th>A</th>\n",
       "      <th>B</th>\n",
       "      <th>C</th>\n",
       "    </tr>\n",
       "  </thead>\n",
       "  <tbody>\n",
       "  </tbody>\n",
       "</table>\n",
       "</div>"
      ],
      "text/plain": [
       "Empty DataFrame\n",
       "Columns: [A, B, C]\n",
       "Index: []"
      ]
     },
     "execution_count": 16,
     "metadata": {},
     "output_type": "execute_result"
    }
   ],
   "source": [
    "# [+] NaN값이 한 개라도 포함되면 행 또는 열 삭제\n",
    "df.dropna(axis=0, how='any')"
   ]
  },
  {
   "cell_type": "code",
   "execution_count": 17,
   "metadata": {},
   "outputs": [
    {
     "data": {
      "text/html": [
       "<div>\n",
       "<style scoped>\n",
       "    .dataframe tbody tr th:only-of-type {\n",
       "        vertical-align: middle;\n",
       "    }\n",
       "\n",
       "    .dataframe tbody tr th {\n",
       "        vertical-align: top;\n",
       "    }\n",
       "\n",
       "    .dataframe thead th {\n",
       "        text-align: right;\n",
       "    }\n",
       "</style>\n",
       "<table border=\"1\" class=\"dataframe\">\n",
       "  <thead>\n",
       "    <tr style=\"text-align: right;\">\n",
       "      <th></th>\n",
       "      <th>B</th>\n",
       "      <th>C</th>\n",
       "    </tr>\n",
       "  </thead>\n",
       "  <tbody>\n",
       "    <tr>\n",
       "      <th>0</th>\n",
       "      <td>NaN</td>\n",
       "      <td>C0</td>\n",
       "    </tr>\n",
       "    <tr>\n",
       "      <th>1</th>\n",
       "      <td>B1</td>\n",
       "      <td>C1</td>\n",
       "    </tr>\n",
       "    <tr>\n",
       "      <th>2</th>\n",
       "      <td>B2</td>\n",
       "      <td>C2</td>\n",
       "    </tr>\n",
       "  </tbody>\n",
       "</table>\n",
       "</div>"
      ],
      "text/plain": [
       "     B   C\n",
       "0  NaN  C0\n",
       "1   B1  C1\n",
       "2   B2  C2"
      ]
     },
     "execution_count": 17,
     "metadata": {},
     "output_type": "execute_result"
    }
   ],
   "source": [
    "# [+] 모든 값이 전부 NaN값인 행 또는 열 삭제\n",
    "df.dropna(axis=1, how='all')"
   ]
  },
  {
   "cell_type": "code",
   "execution_count": 18,
   "metadata": {},
   "outputs": [
    {
     "data": {
      "text/html": [
       "<div>\n",
       "<style scoped>\n",
       "    .dataframe tbody tr th:only-of-type {\n",
       "        vertical-align: middle;\n",
       "    }\n",
       "\n",
       "    .dataframe tbody tr th {\n",
       "        vertical-align: top;\n",
       "    }\n",
       "\n",
       "    .dataframe thead th {\n",
       "        text-align: right;\n",
       "    }\n",
       "</style>\n",
       "<table border=\"1\" class=\"dataframe\">\n",
       "  <thead>\n",
       "    <tr style=\"text-align: right;\">\n",
       "      <th></th>\n",
       "      <th>A</th>\n",
       "      <th>B</th>\n",
       "      <th>C</th>\n",
       "    </tr>\n",
       "  </thead>\n",
       "  <tbody>\n",
       "    <tr>\n",
       "      <th>1</th>\n",
       "      <td>NaN</td>\n",
       "      <td>B1</td>\n",
       "      <td>C1</td>\n",
       "    </tr>\n",
       "    <tr>\n",
       "      <th>2</th>\n",
       "      <td>NaN</td>\n",
       "      <td>B2</td>\n",
       "      <td>C2</td>\n",
       "    </tr>\n",
       "  </tbody>\n",
       "</table>\n",
       "</div>"
      ],
      "text/plain": [
       "     A   B   C\n",
       "1  NaN  B1  C1\n",
       "2  NaN  B2  C2"
      ]
     },
     "execution_count": 18,
     "metadata": {},
     "output_type": "execute_result"
    }
   ],
   "source": [
    "# [+] Non-null(정상으로 측정된) 값의 개수가 임계치보다 작은 행을 삭제\n",
    "df.dropna(axis=0, thresh=2)"
   ]
  },
  {
   "cell_type": "code",
   "execution_count": 19,
   "metadata": {},
   "outputs": [
    {
     "data": {
      "text/html": [
       "<div>\n",
       "<style scoped>\n",
       "    .dataframe tbody tr th:only-of-type {\n",
       "        vertical-align: middle;\n",
       "    }\n",
       "\n",
       "    .dataframe tbody tr th {\n",
       "        vertical-align: top;\n",
       "    }\n",
       "\n",
       "    .dataframe thead th {\n",
       "        text-align: right;\n",
       "    }\n",
       "</style>\n",
       "<table border=\"1\" class=\"dataframe\">\n",
       "  <thead>\n",
       "    <tr style=\"text-align: right;\">\n",
       "      <th></th>\n",
       "      <th>B</th>\n",
       "      <th>C</th>\n",
       "    </tr>\n",
       "  </thead>\n",
       "  <tbody>\n",
       "    <tr>\n",
       "      <th>0</th>\n",
       "      <td>NaN</td>\n",
       "      <td>C0</td>\n",
       "    </tr>\n",
       "    <tr>\n",
       "      <th>1</th>\n",
       "      <td>B1</td>\n",
       "      <td>C1</td>\n",
       "    </tr>\n",
       "    <tr>\n",
       "      <th>2</th>\n",
       "      <td>B2</td>\n",
       "      <td>C2</td>\n",
       "    </tr>\n",
       "  </tbody>\n",
       "</table>\n",
       "</div>"
      ],
      "text/plain": [
       "     B   C\n",
       "0  NaN  C0\n",
       "1   B1  C1\n",
       "2   B2  C2"
      ]
     },
     "execution_count": 19,
     "metadata": {},
     "output_type": "execute_result"
    }
   ],
   "source": [
    "# [+] Non-null 값의 개수가 임계치보다 작은 열을 삭제\n",
    "df.dropna(axis=1, thresh=2)"
   ]
  },
  {
   "cell_type": "markdown",
   "metadata": {},
   "source": [
    "#### <strong> NaN값을 다른 값을 대체\n",
    "+ ```fillna()```"
   ]
  },
  {
   "cell_type": "code",
   "execution_count": 20,
   "metadata": {},
   "outputs": [
    {
     "data": {
      "text/plain": [
       "a    1.0\n",
       "b    NaN\n",
       "c    2.0\n",
       "d    NaN\n",
       "e    3.0\n",
       "dtype: float64"
      ]
     },
     "execution_count": 20,
     "metadata": {},
     "output_type": "execute_result"
    }
   ],
   "source": [
    "# Series 객체 생성\n",
    "ser = pd.Series([1, np.nan, 2, None, 3],\n",
    "                index=list('abcde'))\n",
    "ser"
   ]
  },
  {
   "cell_type": "code",
   "execution_count": 21,
   "metadata": {},
   "outputs": [
    {
     "data": {
      "text/plain": [
       "a    1.0\n",
       "b    0.0\n",
       "c    2.0\n",
       "d    0.0\n",
       "e    3.0\n",
       "dtype: float64"
      ]
     },
     "execution_count": 21,
     "metadata": {},
     "output_type": "execute_result"
    }
   ],
   "source": [
    "# [+] 결측치를 특정 값을 대체\n",
    "ser.fillna(0)"
   ]
  },
  {
   "cell_type": "code",
   "execution_count": null,
   "metadata": {},
   "outputs": [
    {
     "data": {
      "text/plain": [
       "a    1.0\n",
       "b    1.0\n",
       "c    2.0\n",
       "d    2.0\n",
       "e    3.0\n",
       "dtype: float64"
      ]
     },
     "execution_count": 22,
     "metadata": {},
     "output_type": "execute_result"
    }
   ],
   "source": [
    "# [+] Forward-fill 방식(= LOCF)\n",
    "ser.ffill()"
   ]
  },
  {
   "cell_type": "code",
   "execution_count": null,
   "metadata": {},
   "outputs": [
    {
     "data": {
      "text/plain": [
       "a    1.0\n",
       "b    2.0\n",
       "c    2.0\n",
       "d    3.0\n",
       "e    3.0\n",
       "dtype: float64"
      ]
     },
     "execution_count": 23,
     "metadata": {},
     "output_type": "execute_result"
    }
   ],
   "source": [
    "# [+] Backward-fill 방식(= NOCB)\n",
    "ser.bfill()"
   ]
  },
  {
   "cell_type": "code",
   "execution_count": 24,
   "metadata": {},
   "outputs": [
    {
     "data": {
      "text/plain": [
       "a    1.0\n",
       "b    1.5\n",
       "c    2.0\n",
       "d    2.5\n",
       "e    3.0\n",
       "dtype: float64"
      ]
     },
     "execution_count": 24,
     "metadata": {},
     "output_type": "execute_result"
    }
   ],
   "source": [
    "ser.interpolate()"
   ]
  },
  {
   "cell_type": "markdown",
   "metadata": {},
   "source": [
    "### <strong> 결측치 처리 예제: Air Quality 데이터셋"
   ]
  },
  {
   "cell_type": "code",
   "execution_count": 26,
   "metadata": {},
   "outputs": [
    {
     "name": "stderr",
     "output_type": "stream",
     "text": [
      "C:\\Users\\SangminPark\\AppData\\Local\\Temp\\ipykernel_22372\\2549138848.py:13: FutureWarning: The argument 'date_parser' is deprecated and will be removed in a future version. Please use 'date_format' instead, or read your data in as 'object' dtype and then call 'to_datetime'.\n",
      "  df = pd.read_csv(input_file,\n"
     ]
    }
   ],
   "source": [
    "from datetime import datetime\n",
    "from matplotlib import pyplot as plt\n",
    "\n",
    "\"\"\"\n",
    "Load AirQualityUCI Data\n",
    "\"\"\"\n",
    "\n",
    "def parser(x):\n",
    "    return datetime.strptime(x, '%Y-%m-%d %H:%M:%S')\n",
    "\n",
    "input_file = '../data/AirQualityUCI_refined.csv'\n",
    "\n",
    "df = pd.read_csv(input_file,\n",
    "                 index_col=[0],\n",
    "                 parse_dates=[0],\n",
    "                 date_parser=parser)"
   ]
  },
  {
   "cell_type": "code",
   "execution_count": 28,
   "metadata": {},
   "outputs": [
    {
     "name": "stdout",
     "output_type": "stream",
     "text": [
      "<class 'pandas.core.frame.DataFrame'>\n",
      "DatetimeIndex: 9357 entries, 2004-03-10 18:00:00 to 2005-04-04 14:00:00\n",
      "Data columns (total 11 columns):\n",
      " #   Column         Non-Null Count  Dtype  \n",
      "---  ------         --------------  -----  \n",
      " 0   CO(GT)         7765 non-null   float64\n",
      " 1   PT08.S1(CO)    8991 non-null   float64\n",
      " 2   PT08.S2(NMHC)  8991 non-null   float64\n",
      " 3   NOx(GT)        7718 non-null   float64\n",
      " 4   PT08.S3(NOx)   8991 non-null   float64\n",
      " 5   NO2(GT)        7715 non-null   float64\n",
      " 6   PT08.S4(NO2)   8991 non-null   float64\n",
      " 7   PT08.S5(O3)    8991 non-null   float64\n",
      " 8   RH             8991 non-null   float64\n",
      " 9   AH             8991 non-null   float64\n",
      " 10  C6H6(GT)       9357 non-null   float64\n",
      "dtypes: float64(11)\n",
      "memory usage: 877.2 KB\n"
     ]
    }
   ],
   "source": [
    "# 데이터 요약\n",
    "df.info()"
   ]
  },
  {
   "cell_type": "code",
   "execution_count": 43,
   "metadata": {},
   "outputs": [
    {
     "ename": "ImportError",
     "evalue": "Failed to import any of the following Qt binding modules: PyQt5, PySide2",
     "output_type": "error",
     "traceback": [
      "\u001b[31m---------------------------------------------------------------------------\u001b[39m",
      "\u001b[31mImportError\u001b[39m                               Traceback (most recent call last)",
      "\u001b[36mCell\u001b[39m\u001b[36m \u001b[39m\u001b[32mIn[43]\u001b[39m\u001b[32m, line 2\u001b[39m\n\u001b[32m      1\u001b[39m \u001b[38;5;66;03m# 시각화 설정 옵션\u001b[39;00m\n\u001b[32m----> \u001b[39m\u001b[32m2\u001b[39m \u001b[43mget_ipython\u001b[49m\u001b[43m(\u001b[49m\u001b[43m)\u001b[49m\u001b[43m.\u001b[49m\u001b[43mrun_line_magic\u001b[49m\u001b[43m(\u001b[49m\u001b[33;43m'\u001b[39;49m\u001b[33;43mmatplotlib\u001b[39;49m\u001b[33;43m'\u001b[39;49m\u001b[43m,\u001b[49m\u001b[43m \u001b[49m\u001b[33;43m'\u001b[39;49m\u001b[33;43mqt5\u001b[39;49m\u001b[33;43m'\u001b[39;49m\u001b[43m)\u001b[49m\n\u001b[32m      3\u001b[39m get_ipython().run_line_magic(\u001b[33m'\u001b[39m\u001b[33mconfig\u001b[39m\u001b[33m'\u001b[39m, \u001b[33m\"\u001b[39m\u001b[33mInlineBackend.figure_format = \u001b[39m\u001b[33m'\u001b[39m\u001b[33msvg\u001b[39m\u001b[33m'\u001b[39m\u001b[33m\"\u001b[39m)\n\u001b[32m      5\u001b[39m plt.rcParams[\u001b[33m'\u001b[39m\u001b[33mfigure.figsize\u001b[39m\u001b[33m'\u001b[39m] = [\u001b[32m12\u001b[39m, \u001b[32m5\u001b[39m]\n",
      "\u001b[36mFile \u001b[39m\u001b[32mc:\\Users\\SangminPark\\anaconda3\\envs\\stock_program\\Lib\\site-packages\\IPython\\core\\interactiveshell.py:2486\u001b[39m, in \u001b[36mInteractiveShell.run_line_magic\u001b[39m\u001b[34m(self, magic_name, line, _stack_depth)\u001b[39m\n\u001b[32m   2484\u001b[39m     kwargs[\u001b[33m'\u001b[39m\u001b[33mlocal_ns\u001b[39m\u001b[33m'\u001b[39m] = \u001b[38;5;28mself\u001b[39m.get_local_scope(stack_depth)\n\u001b[32m   2485\u001b[39m \u001b[38;5;28;01mwith\u001b[39;00m \u001b[38;5;28mself\u001b[39m.builtin_trap:\n\u001b[32m-> \u001b[39m\u001b[32m2486\u001b[39m     result = \u001b[43mfn\u001b[49m\u001b[43m(\u001b[49m\u001b[43m*\u001b[49m\u001b[43margs\u001b[49m\u001b[43m,\u001b[49m\u001b[43m \u001b[49m\u001b[43m*\u001b[49m\u001b[43m*\u001b[49m\u001b[43mkwargs\u001b[49m\u001b[43m)\u001b[49m\n\u001b[32m   2488\u001b[39m \u001b[38;5;66;03m# The code below prevents the output from being displayed\u001b[39;00m\n\u001b[32m   2489\u001b[39m \u001b[38;5;66;03m# when using magics with decorator @output_can_be_silenced\u001b[39;00m\n\u001b[32m   2490\u001b[39m \u001b[38;5;66;03m# when the last Python token in the expression is a ';'.\u001b[39;00m\n\u001b[32m   2491\u001b[39m \u001b[38;5;28;01mif\u001b[39;00m \u001b[38;5;28mgetattr\u001b[39m(fn, magic.MAGIC_OUTPUT_CAN_BE_SILENCED, \u001b[38;5;28;01mFalse\u001b[39;00m):\n",
      "\u001b[36mFile \u001b[39m\u001b[32mc:\\Users\\SangminPark\\anaconda3\\envs\\stock_program\\Lib\\site-packages\\IPython\\core\\magics\\pylab.py:103\u001b[39m, in \u001b[36mPylabMagics.matplotlib\u001b[39m\u001b[34m(self, line)\u001b[39m\n\u001b[32m     98\u001b[39m     \u001b[38;5;28mprint\u001b[39m(\n\u001b[32m     99\u001b[39m         \u001b[33m\"\u001b[39m\u001b[33mAvailable matplotlib backends: \u001b[39m\u001b[38;5;132;01m%s\u001b[39;00m\u001b[33m\"\u001b[39m\n\u001b[32m    100\u001b[39m         % _list_matplotlib_backends_and_gui_loops()\n\u001b[32m    101\u001b[39m     )\n\u001b[32m    102\u001b[39m \u001b[38;5;28;01melse\u001b[39;00m:\n\u001b[32m--> \u001b[39m\u001b[32m103\u001b[39m     gui, backend = \u001b[38;5;28;43mself\u001b[39;49m\u001b[43m.\u001b[49m\u001b[43mshell\u001b[49m\u001b[43m.\u001b[49m\u001b[43menable_matplotlib\u001b[49m\u001b[43m(\u001b[49m\u001b[43margs\u001b[49m\u001b[43m.\u001b[49m\u001b[43mgui\u001b[49m\u001b[43m)\u001b[49m\n\u001b[32m    104\u001b[39m     \u001b[38;5;28mself\u001b[39m._show_matplotlib_backend(args.gui, backend)\n",
      "\u001b[36mFile \u001b[39m\u001b[32mc:\\Users\\SangminPark\\anaconda3\\envs\\stock_program\\Lib\\site-packages\\IPython\\core\\interactiveshell.py:3767\u001b[39m, in \u001b[36mInteractiveShell.enable_matplotlib\u001b[39m\u001b[34m(self, gui)\u001b[39m\n\u001b[32m   3763\u001b[39m         \u001b[38;5;28mprint\u001b[39m(\u001b[33m'\u001b[39m\u001b[33mWarning: Cannot change to a different GUI toolkit: \u001b[39m\u001b[38;5;132;01m%s\u001b[39;00m\u001b[33m.\u001b[39m\u001b[33m'\u001b[39m\n\u001b[32m   3764\u001b[39m                 \u001b[33m'\u001b[39m\u001b[33m Using \u001b[39m\u001b[38;5;132;01m%s\u001b[39;00m\u001b[33m instead.\u001b[39m\u001b[33m'\u001b[39m % (gui, \u001b[38;5;28mself\u001b[39m.pylab_gui_select))\n\u001b[32m   3765\u001b[39m         gui, backend = pt.find_gui_and_backend(\u001b[38;5;28mself\u001b[39m.pylab_gui_select)\n\u001b[32m-> \u001b[39m\u001b[32m3767\u001b[39m \u001b[43mpt\u001b[49m\u001b[43m.\u001b[49m\u001b[43mactivate_matplotlib\u001b[49m\u001b[43m(\u001b[49m\u001b[43mbackend\u001b[49m\u001b[43m)\u001b[49m\n\u001b[32m   3769\u001b[39m \u001b[38;5;28;01mfrom\u001b[39;00m\u001b[38;5;250m \u001b[39m\u001b[34;01mmatplotlib_inline\u001b[39;00m\u001b[34;01m.\u001b[39;00m\u001b[34;01mbackend_inline\u001b[39;00m\u001b[38;5;250m \u001b[39m\u001b[38;5;28;01mimport\u001b[39;00m configure_inline_support\n\u001b[32m   3771\u001b[39m configure_inline_support(\u001b[38;5;28mself\u001b[39m, backend)\n",
      "\u001b[36mFile \u001b[39m\u001b[32mc:\\Users\\SangminPark\\anaconda3\\envs\\stock_program\\Lib\\site-packages\\IPython\\core\\pylabtools.py:410\u001b[39m, in \u001b[36mactivate_matplotlib\u001b[39m\u001b[34m(backend)\u001b[39m\n\u001b[32m    405\u001b[39m \u001b[38;5;66;03m# Due to circular imports, pyplot may be only partially initialised\u001b[39;00m\n\u001b[32m    406\u001b[39m \u001b[38;5;66;03m# when this function runs.\u001b[39;00m\n\u001b[32m    407\u001b[39m \u001b[38;5;66;03m# So avoid needing matplotlib attribute-lookup to access pyplot.\u001b[39;00m\n\u001b[32m    408\u001b[39m \u001b[38;5;28;01mfrom\u001b[39;00m\u001b[38;5;250m \u001b[39m\u001b[34;01mmatplotlib\u001b[39;00m\u001b[38;5;250m \u001b[39m\u001b[38;5;28;01mimport\u001b[39;00m pyplot \u001b[38;5;28;01mas\u001b[39;00m plt\n\u001b[32m--> \u001b[39m\u001b[32m410\u001b[39m \u001b[43mplt\u001b[49m\u001b[43m.\u001b[49m\u001b[43mswitch_backend\u001b[49m\u001b[43m(\u001b[49m\u001b[43mbackend\u001b[49m\u001b[43m)\u001b[49m\n\u001b[32m    412\u001b[39m plt.show._needmain = \u001b[38;5;28;01mFalse\u001b[39;00m\n\u001b[32m    413\u001b[39m \u001b[38;5;66;03m# We need to detect at runtime whether show() is called by the user.\u001b[39;00m\n\u001b[32m    414\u001b[39m \u001b[38;5;66;03m# For this, we wrap it into a decorator which adds a 'called' flag.\u001b[39;00m\n",
      "\u001b[36mFile \u001b[39m\u001b[32mc:\\Users\\SangminPark\\anaconda3\\envs\\stock_program\\Lib\\site-packages\\matplotlib\\pyplot.py:425\u001b[39m, in \u001b[36mswitch_backend\u001b[39m\u001b[34m(newbackend)\u001b[39m\n\u001b[32m    422\u001b[39m         \u001b[38;5;28;01mreturn\u001b[39;00m\n\u001b[32m    423\u001b[39m old_backend = rcParams._get(\u001b[33m'\u001b[39m\u001b[33mbackend\u001b[39m\u001b[33m'\u001b[39m)  \u001b[38;5;66;03m# get without triggering backend resolution\u001b[39;00m\n\u001b[32m--> \u001b[39m\u001b[32m425\u001b[39m module = \u001b[43mbackend_registry\u001b[49m\u001b[43m.\u001b[49m\u001b[43mload_backend_module\u001b[49m\u001b[43m(\u001b[49m\u001b[43mnewbackend\u001b[49m\u001b[43m)\u001b[49m\n\u001b[32m    426\u001b[39m canvas_class = module.FigureCanvas\n\u001b[32m    428\u001b[39m required_framework = canvas_class.required_interactive_framework\n",
      "\u001b[36mFile \u001b[39m\u001b[32mc:\\Users\\SangminPark\\anaconda3\\envs\\stock_program\\Lib\\site-packages\\matplotlib\\backends\\registry.py:317\u001b[39m, in \u001b[36mBackendRegistry.load_backend_module\u001b[39m\u001b[34m(self, backend)\u001b[39m\n\u001b[32m    303\u001b[39m \u001b[38;5;250m\u001b[39m\u001b[33;03m\"\"\"\u001b[39;00m\n\u001b[32m    304\u001b[39m \u001b[33;03mLoad and return the module containing the specified backend.\u001b[39;00m\n\u001b[32m    305\u001b[39m \n\u001b[32m   (...)\u001b[39m\u001b[32m    314\u001b[39m \u001b[33;03m    Module containing backend.\u001b[39;00m\n\u001b[32m    315\u001b[39m \u001b[33;03m\"\"\"\u001b[39;00m\n\u001b[32m    316\u001b[39m module_name = \u001b[38;5;28mself\u001b[39m._backend_module_name(backend)\n\u001b[32m--> \u001b[39m\u001b[32m317\u001b[39m \u001b[38;5;28;01mreturn\u001b[39;00m \u001b[43mimportlib\u001b[49m\u001b[43m.\u001b[49m\u001b[43mimport_module\u001b[49m\u001b[43m(\u001b[49m\u001b[43mmodule_name\u001b[49m\u001b[43m)\u001b[49m\n",
      "\u001b[36mFile \u001b[39m\u001b[32mc:\\Users\\SangminPark\\anaconda3\\envs\\stock_program\\Lib\\importlib\\__init__.py:126\u001b[39m, in \u001b[36mimport_module\u001b[39m\u001b[34m(name, package)\u001b[39m\n\u001b[32m    124\u001b[39m             \u001b[38;5;28;01mbreak\u001b[39;00m\n\u001b[32m    125\u001b[39m         level += \u001b[32m1\u001b[39m\n\u001b[32m--> \u001b[39m\u001b[32m126\u001b[39m \u001b[38;5;28;01mreturn\u001b[39;00m \u001b[43m_bootstrap\u001b[49m\u001b[43m.\u001b[49m\u001b[43m_gcd_import\u001b[49m\u001b[43m(\u001b[49m\u001b[43mname\u001b[49m\u001b[43m[\u001b[49m\u001b[43mlevel\u001b[49m\u001b[43m:\u001b[49m\u001b[43m]\u001b[49m\u001b[43m,\u001b[49m\u001b[43m \u001b[49m\u001b[43mpackage\u001b[49m\u001b[43m,\u001b[49m\u001b[43m \u001b[49m\u001b[43mlevel\u001b[49m\u001b[43m)\u001b[49m\n",
      "\u001b[36mFile \u001b[39m\u001b[32m<frozen importlib._bootstrap>:1204\u001b[39m, in \u001b[36m_gcd_import\u001b[39m\u001b[34m(name, package, level)\u001b[39m\n",
      "\u001b[36mFile \u001b[39m\u001b[32m<frozen importlib._bootstrap>:1176\u001b[39m, in \u001b[36m_find_and_load\u001b[39m\u001b[34m(name, import_)\u001b[39m\n",
      "\u001b[36mFile \u001b[39m\u001b[32m<frozen importlib._bootstrap>:1147\u001b[39m, in \u001b[36m_find_and_load_unlocked\u001b[39m\u001b[34m(name, import_)\u001b[39m\n",
      "\u001b[36mFile \u001b[39m\u001b[32m<frozen importlib._bootstrap>:690\u001b[39m, in \u001b[36m_load_unlocked\u001b[39m\u001b[34m(spec)\u001b[39m\n",
      "\u001b[36mFile \u001b[39m\u001b[32m<frozen importlib._bootstrap_external>:940\u001b[39m, in \u001b[36mexec_module\u001b[39m\u001b[34m(self, module)\u001b[39m\n",
      "\u001b[36mFile \u001b[39m\u001b[32m<frozen importlib._bootstrap>:241\u001b[39m, in \u001b[36m_call_with_frames_removed\u001b[39m\u001b[34m(f, *args, **kwds)\u001b[39m\n",
      "\u001b[36mFile \u001b[39m\u001b[32mc:\\Users\\SangminPark\\anaconda3\\envs\\stock_program\\Lib\\site-packages\\matplotlib\\backends\\backend_qt5agg.py:7\u001b[39m\n\u001b[32m      4\u001b[39m \u001b[38;5;28;01mfrom\u001b[39;00m\u001b[38;5;250m \u001b[39m\u001b[34;01m.\u001b[39;00m\u001b[34;01m.\u001b[39;00m\u001b[38;5;250m \u001b[39m\u001b[38;5;28;01mimport\u001b[39;00m backends\n\u001b[32m      6\u001b[39m backends._QT_FORCE_QT5_BINDING = \u001b[38;5;28;01mTrue\u001b[39;00m\n\u001b[32m----> \u001b[39m\u001b[32m7\u001b[39m \u001b[38;5;28;01mfrom\u001b[39;00m\u001b[38;5;250m \u001b[39m\u001b[34;01m.\u001b[39;00m\u001b[34;01mbackend_qtagg\u001b[39;00m\u001b[38;5;250m \u001b[39m\u001b[38;5;28;01mimport\u001b[39;00m (    \u001b[38;5;66;03m# noqa: F401, E402 # pylint: disable=W0611\u001b[39;00m\n\u001b[32m      8\u001b[39m     _BackendQTAgg, FigureCanvasQTAgg, FigureManagerQT, NavigationToolbar2QT,\n\u001b[32m      9\u001b[39m     FigureCanvasAgg, FigureCanvasQT)\n\u001b[32m     12\u001b[39m \u001b[38;5;129m@_BackendQTAgg\u001b[39m.export\n\u001b[32m     13\u001b[39m \u001b[38;5;28;01mclass\u001b[39;00m\u001b[38;5;250m \u001b[39m\u001b[34;01m_BackendQT5Agg\u001b[39;00m(_BackendQTAgg):\n\u001b[32m     14\u001b[39m     \u001b[38;5;28;01mpass\u001b[39;00m\n",
      "\u001b[36mFile \u001b[39m\u001b[32mc:\\Users\\SangminPark\\anaconda3\\envs\\stock_program\\Lib\\site-packages\\matplotlib\\backends\\backend_qtagg.py:9\u001b[39m\n\u001b[32m      5\u001b[39m \u001b[38;5;28;01mimport\u001b[39;00m\u001b[38;5;250m \u001b[39m\u001b[34;01mctypes\u001b[39;00m\n\u001b[32m      7\u001b[39m \u001b[38;5;28;01mfrom\u001b[39;00m\u001b[38;5;250m \u001b[39m\u001b[34;01mmatplotlib\u001b[39;00m\u001b[34;01m.\u001b[39;00m\u001b[34;01mtransforms\u001b[39;00m\u001b[38;5;250m \u001b[39m\u001b[38;5;28;01mimport\u001b[39;00m Bbox\n\u001b[32m----> \u001b[39m\u001b[32m9\u001b[39m \u001b[38;5;28;01mfrom\u001b[39;00m\u001b[38;5;250m \u001b[39m\u001b[34;01m.\u001b[39;00m\u001b[34;01mqt_compat\u001b[39;00m\u001b[38;5;250m \u001b[39m\u001b[38;5;28;01mimport\u001b[39;00m QT_API, QtCore, QtGui\n\u001b[32m     10\u001b[39m \u001b[38;5;28;01mfrom\u001b[39;00m\u001b[38;5;250m \u001b[39m\u001b[34;01m.\u001b[39;00m\u001b[34;01mbackend_agg\u001b[39;00m\u001b[38;5;250m \u001b[39m\u001b[38;5;28;01mimport\u001b[39;00m FigureCanvasAgg\n\u001b[32m     11\u001b[39m \u001b[38;5;28;01mfrom\u001b[39;00m\u001b[38;5;250m \u001b[39m\u001b[34;01m.\u001b[39;00m\u001b[34;01mbackend_qt\u001b[39;00m\u001b[38;5;250m \u001b[39m\u001b[38;5;28;01mimport\u001b[39;00m _BackendQT, FigureCanvasQT\n",
      "\u001b[36mFile \u001b[39m\u001b[32mc:\\Users\\SangminPark\\anaconda3\\envs\\stock_program\\Lib\\site-packages\\matplotlib\\backends\\qt_compat.py:130\u001b[39m\n\u001b[32m    128\u001b[39m         \u001b[38;5;28;01mbreak\u001b[39;00m\n\u001b[32m    129\u001b[39m     \u001b[38;5;28;01melse\u001b[39;00m:\n\u001b[32m--> \u001b[39m\u001b[32m130\u001b[39m         \u001b[38;5;28;01mraise\u001b[39;00m \u001b[38;5;167;01mImportError\u001b[39;00m(\n\u001b[32m    131\u001b[39m             \u001b[33m\"\u001b[39m\u001b[33mFailed to import any of the following Qt binding modules: \u001b[39m\u001b[38;5;132;01m{}\u001b[39;00m\u001b[33m\"\u001b[39m\n\u001b[32m    132\u001b[39m             .format(\u001b[33m\"\u001b[39m\u001b[33m, \u001b[39m\u001b[33m\"\u001b[39m.join([QT_API \u001b[38;5;28;01mfor\u001b[39;00m _, QT_API \u001b[38;5;129;01min\u001b[39;00m _candidates]))\n\u001b[32m    133\u001b[39m         )\n\u001b[32m    134\u001b[39m \u001b[38;5;28;01melse\u001b[39;00m:  \u001b[38;5;66;03m# We should not get there.\u001b[39;00m\n\u001b[32m    135\u001b[39m     \u001b[38;5;28;01mraise\u001b[39;00m \u001b[38;5;167;01mAssertionError\u001b[39;00m(\u001b[33mf\u001b[39m\u001b[33m\"\u001b[39m\u001b[33mUnexpected QT_API: \u001b[39m\u001b[38;5;132;01m{\u001b[39;00mQT_API\u001b[38;5;132;01m}\u001b[39;00m\u001b[33m\"\u001b[39m)\n",
      "\u001b[31mImportError\u001b[39m: Failed to import any of the following Qt binding modules: PyQt5, PySide2"
     ]
    }
   ],
   "source": [
    "# 시각화 설정 옵션\n",
    "%matplotlib qt5\n",
    "%config InlineBackend.figure_format = 'svg'\n",
    "\n",
    "plt.rcParams['figure.figsize'] = [12, 5]\n",
    "plt.rcParams['font.size'] = 13\n",
    "plt.ion()"
   ]
  },
  {
   "cell_type": "code",
   "execution_count": 36,
   "metadata": {},
   "outputs": [
    {
     "name": "stdout",
     "output_type": "stream",
     "text": [
      "Requirement already satisfied: missingno in c:\\users\\sangminpark\\anaconda3\\envs\\stock_program\\lib\\site-packages (0.5.2)\n",
      "Requirement already satisfied: numpy in c:\\users\\sangminpark\\anaconda3\\envs\\stock_program\\lib\\site-packages (from missingno) (2.1.3)\n",
      "Requirement already satisfied: matplotlib in c:\\users\\sangminpark\\anaconda3\\envs\\stock_program\\lib\\site-packages (from missingno) (3.10.1)\n",
      "Requirement already satisfied: scipy in c:\\users\\sangminpark\\anaconda3\\envs\\stock_program\\lib\\site-packages (from missingno) (1.15.2)\n",
      "Requirement already satisfied: seaborn in c:\\users\\sangminpark\\anaconda3\\envs\\stock_program\\lib\\site-packages (from missingno) (0.13.2)\n",
      "Requirement already satisfied: contourpy>=1.0.1 in c:\\users\\sangminpark\\anaconda3\\envs\\stock_program\\lib\\site-packages (from matplotlib->missingno) (1.3.2)\n",
      "Requirement already satisfied: cycler>=0.10 in c:\\users\\sangminpark\\anaconda3\\envs\\stock_program\\lib\\site-packages (from matplotlib->missingno) (0.12.1)\n",
      "Requirement already satisfied: fonttools>=4.22.0 in c:\\users\\sangminpark\\anaconda3\\envs\\stock_program\\lib\\site-packages (from matplotlib->missingno) (4.57.0)\n",
      "Requirement already satisfied: kiwisolver>=1.3.1 in c:\\users\\sangminpark\\anaconda3\\envs\\stock_program\\lib\\site-packages (from matplotlib->missingno) (1.4.8)\n",
      "Requirement already satisfied: packaging>=20.0 in c:\\users\\sangminpark\\anaconda3\\envs\\stock_program\\lib\\site-packages (from matplotlib->missingno) (24.2)\n",
      "Requirement already satisfied: pillow>=8 in c:\\users\\sangminpark\\anaconda3\\envs\\stock_program\\lib\\site-packages (from matplotlib->missingno) (11.2.1)\n",
      "Requirement already satisfied: pyparsing>=2.3.1 in c:\\users\\sangminpark\\anaconda3\\envs\\stock_program\\lib\\site-packages (from matplotlib->missingno) (3.2.3)\n",
      "Requirement already satisfied: python-dateutil>=2.7 in c:\\users\\sangminpark\\anaconda3\\envs\\stock_program\\lib\\site-packages (from matplotlib->missingno) (2.9.0.post0)\n",
      "Requirement already satisfied: pandas>=1.2 in c:\\users\\sangminpark\\anaconda3\\envs\\stock_program\\lib\\site-packages (from seaborn->missingno) (2.2.3)\n",
      "Requirement already satisfied: pytz>=2020.1 in c:\\users\\sangminpark\\anaconda3\\envs\\stock_program\\lib\\site-packages (from pandas>=1.2->seaborn->missingno) (2025.1)\n",
      "Requirement already satisfied: tzdata>=2022.7 in c:\\users\\sangminpark\\anaconda3\\envs\\stock_program\\lib\\site-packages (from pandas>=1.2->seaborn->missingno) (2025.1)\n",
      "Requirement already satisfied: six>=1.5 in c:\\users\\sangminpark\\anaconda3\\envs\\stock_program\\lib\\site-packages (from python-dateutil>=2.7->matplotlib->missingno) (1.17.0)\n"
     ]
    },
    {
     "name": "stderr",
     "output_type": "stream",
     "text": [
      "\n",
      "[notice] A new release of pip is available: 25.0.1 -> 25.1.1\n",
      "[notice] To update, run: python.exe -m pip install --upgrade pip\n"
     ]
    }
   ],
   "source": [
    "!pip install missingno"
   ]
  },
  {
   "cell_type": "code",
   "execution_count": 37,
   "metadata": {},
   "outputs": [
    {
     "ename": "ImportError",
     "evalue": "Failed to import any of the following Qt binding modules: PyQt5, PySide2",
     "output_type": "error",
     "traceback": [
      "\u001b[31m---------------------------------------------------------------------------\u001b[39m",
      "\u001b[31mImportError\u001b[39m                               Traceback (most recent call last)",
      "\u001b[36mCell\u001b[39m\u001b[36m \u001b[39m\u001b[32mIn[37]\u001b[39m\u001b[32m, line 5\u001b[39m\n\u001b[32m      1\u001b[39m \u001b[38;5;66;03m# 결측 데이터 시각화\u001b[39;00m\n\u001b[32m      3\u001b[39m \u001b[38;5;28;01mimport\u001b[39;00m\u001b[38;5;250m \u001b[39m\u001b[34;01mmissingno\u001b[39;00m\n\u001b[32m----> \u001b[39m\u001b[32m5\u001b[39m \u001b[43mmissingno\u001b[49m\u001b[43m.\u001b[49m\u001b[43mmatrix\u001b[49m\u001b[43m(\u001b[49m\u001b[43mdf\u001b[49m\u001b[43m)\u001b[49m\n",
      "\u001b[36mFile \u001b[39m\u001b[32mc:\\Users\\SangminPark\\anaconda3\\envs\\stock_program\\Lib\\site-packages\\missingno\\missingno.py:51\u001b[39m, in \u001b[36mmatrix\u001b[39m\u001b[34m(df, filter, n, p, sort, figsize, width_ratios, color, fontsize, labels, label_rotation, sparkline, freq, ax)\u001b[39m\n\u001b[32m     49\u001b[39m \u001b[38;5;66;03m# Set up the matplotlib grid layout. A unary subplot if no sparkline, a left-right splot if yes sparkline.\u001b[39;00m\n\u001b[32m     50\u001b[39m \u001b[38;5;28;01mif\u001b[39;00m ax \u001b[38;5;129;01mis\u001b[39;00m \u001b[38;5;28;01mNone\u001b[39;00m:\n\u001b[32m---> \u001b[39m\u001b[32m51\u001b[39m     \u001b[43mplt\u001b[49m\u001b[43m.\u001b[49m\u001b[43mfigure\u001b[49m\u001b[43m(\u001b[49m\u001b[43mfigsize\u001b[49m\u001b[43m=\u001b[49m\u001b[43mfigsize\u001b[49m\u001b[43m)\u001b[49m\n\u001b[32m     52\u001b[39m     \u001b[38;5;28;01mif\u001b[39;00m sparkline:\n\u001b[32m     53\u001b[39m         gs = gridspec.GridSpec(\u001b[32m1\u001b[39m, \u001b[32m2\u001b[39m, width_ratios=width_ratios)\n",
      "\u001b[36mFile \u001b[39m\u001b[32mc:\\Users\\SangminPark\\anaconda3\\envs\\stock_program\\Lib\\site-packages\\matplotlib\\pyplot.py:1042\u001b[39m, in \u001b[36mfigure\u001b[39m\u001b[34m(num, figsize, dpi, facecolor, edgecolor, frameon, FigureClass, clear, **kwargs)\u001b[39m\n\u001b[32m   1032\u001b[39m \u001b[38;5;28;01mif\u001b[39;00m \u001b[38;5;28mlen\u001b[39m(allnums) == max_open_warning >= \u001b[32m1\u001b[39m:\n\u001b[32m   1033\u001b[39m     _api.warn_external(\n\u001b[32m   1034\u001b[39m         \u001b[33mf\u001b[39m\u001b[33m\"\u001b[39m\u001b[33mMore than \u001b[39m\u001b[38;5;132;01m{\u001b[39;00mmax_open_warning\u001b[38;5;132;01m}\u001b[39;00m\u001b[33m figures have been opened. \u001b[39m\u001b[33m\"\u001b[39m\n\u001b[32m   1035\u001b[39m         \u001b[33mf\u001b[39m\u001b[33m\"\u001b[39m\u001b[33mFigures created through the pyplot interface \u001b[39m\u001b[33m\"\u001b[39m\n\u001b[32m   (...)\u001b[39m\u001b[32m   1039\u001b[39m         \u001b[33mf\u001b[39m\u001b[33m\"\u001b[39m\u001b[33mConsider using `matplotlib.pyplot.close()`.\u001b[39m\u001b[33m\"\u001b[39m,\n\u001b[32m   1040\u001b[39m         \u001b[38;5;167;01mRuntimeWarning\u001b[39;00m)\n\u001b[32m-> \u001b[39m\u001b[32m1042\u001b[39m manager = \u001b[43mnew_figure_manager\u001b[49m\u001b[43m(\u001b[49m\n\u001b[32m   1043\u001b[39m \u001b[43m    \u001b[49m\u001b[43mnum\u001b[49m\u001b[43m,\u001b[49m\u001b[43m \u001b[49m\u001b[43mfigsize\u001b[49m\u001b[43m=\u001b[49m\u001b[43mfigsize\u001b[49m\u001b[43m,\u001b[49m\u001b[43m \u001b[49m\u001b[43mdpi\u001b[49m\u001b[43m=\u001b[49m\u001b[43mdpi\u001b[49m\u001b[43m,\u001b[49m\n\u001b[32m   1044\u001b[39m \u001b[43m    \u001b[49m\u001b[43mfacecolor\u001b[49m\u001b[43m=\u001b[49m\u001b[43mfacecolor\u001b[49m\u001b[43m,\u001b[49m\u001b[43m \u001b[49m\u001b[43medgecolor\u001b[49m\u001b[43m=\u001b[49m\u001b[43medgecolor\u001b[49m\u001b[43m,\u001b[49m\u001b[43m \u001b[49m\u001b[43mframeon\u001b[49m\u001b[43m=\u001b[49m\u001b[43mframeon\u001b[49m\u001b[43m,\u001b[49m\n\u001b[32m   1045\u001b[39m \u001b[43m    \u001b[49m\u001b[43mFigureClass\u001b[49m\u001b[43m=\u001b[49m\u001b[43mFigureClass\u001b[49m\u001b[43m,\u001b[49m\u001b[43m \u001b[49m\u001b[43m*\u001b[49m\u001b[43m*\u001b[49m\u001b[43mkwargs\u001b[49m\u001b[43m)\u001b[49m\n\u001b[32m   1046\u001b[39m fig = manager.canvas.figure\n\u001b[32m   1047\u001b[39m \u001b[38;5;28;01mif\u001b[39;00m fig_label:\n",
      "\u001b[36mFile \u001b[39m\u001b[32mc:\\Users\\SangminPark\\anaconda3\\envs\\stock_program\\Lib\\site-packages\\matplotlib\\pyplot.py:551\u001b[39m, in \u001b[36mnew_figure_manager\u001b[39m\u001b[34m(*args, **kwargs)\u001b[39m\n\u001b[32m    549\u001b[39m \u001b[38;5;28;01mdef\u001b[39;00m\u001b[38;5;250m \u001b[39m\u001b[34mnew_figure_manager\u001b[39m(*args, **kwargs):\n\u001b[32m    550\u001b[39m \u001b[38;5;250m    \u001b[39m\u001b[33;03m\"\"\"Create a new figure manager instance.\"\"\"\u001b[39;00m\n\u001b[32m--> \u001b[39m\u001b[32m551\u001b[39m     \u001b[43m_warn_if_gui_out_of_main_thread\u001b[49m\u001b[43m(\u001b[49m\u001b[43m)\u001b[49m\n\u001b[32m    552\u001b[39m     \u001b[38;5;28;01mreturn\u001b[39;00m _get_backend_mod().new_figure_manager(*args, **kwargs)\n",
      "\u001b[36mFile \u001b[39m\u001b[32mc:\\Users\\SangminPark\\anaconda3\\envs\\stock_program\\Lib\\site-packages\\matplotlib\\pyplot.py:528\u001b[39m, in \u001b[36m_warn_if_gui_out_of_main_thread\u001b[39m\u001b[34m()\u001b[39m\n\u001b[32m    526\u001b[39m \u001b[38;5;28;01mdef\u001b[39;00m\u001b[38;5;250m \u001b[39m\u001b[34m_warn_if_gui_out_of_main_thread\u001b[39m() -> \u001b[38;5;28;01mNone\u001b[39;00m:\n\u001b[32m    527\u001b[39m     warn = \u001b[38;5;28;01mFalse\u001b[39;00m\n\u001b[32m--> \u001b[39m\u001b[32m528\u001b[39m     canvas_class = cast(\u001b[38;5;28mtype\u001b[39m[FigureCanvasBase], \u001b[43m_get_backend_mod\u001b[49m\u001b[43m(\u001b[49m\u001b[43m)\u001b[49m.FigureCanvas)\n\u001b[32m    529\u001b[39m     \u001b[38;5;28;01mif\u001b[39;00m canvas_class.required_interactive_framework:\n\u001b[32m    530\u001b[39m         \u001b[38;5;28;01mif\u001b[39;00m \u001b[38;5;28mhasattr\u001b[39m(threading, \u001b[33m'\u001b[39m\u001b[33mget_native_id\u001b[39m\u001b[33m'\u001b[39m):\n\u001b[32m    531\u001b[39m             \u001b[38;5;66;03m# This compares native thread ids because even if Python-level\u001b[39;00m\n\u001b[32m    532\u001b[39m             \u001b[38;5;66;03m# Thread objects match, the underlying OS thread (which is what\u001b[39;00m\n\u001b[32m    533\u001b[39m             \u001b[38;5;66;03m# really matters) may be different on Python implementations with\u001b[39;00m\n\u001b[32m    534\u001b[39m             \u001b[38;5;66;03m# green threads.\u001b[39;00m\n",
      "\u001b[36mFile \u001b[39m\u001b[32mc:\\Users\\SangminPark\\anaconda3\\envs\\stock_program\\Lib\\site-packages\\matplotlib\\pyplot.py:369\u001b[39m, in \u001b[36m_get_backend_mod\u001b[39m\u001b[34m()\u001b[39m\n\u001b[32m    360\u001b[39m \u001b[38;5;250m\u001b[39m\u001b[33;03m\"\"\"\u001b[39;00m\n\u001b[32m    361\u001b[39m \u001b[33;03mEnsure that a backend is selected and return it.\u001b[39;00m\n\u001b[32m    362\u001b[39m \n\u001b[32m    363\u001b[39m \u001b[33;03mThis is currently private, but may be made public in the future.\u001b[39;00m\n\u001b[32m    364\u001b[39m \u001b[33;03m\"\"\"\u001b[39;00m\n\u001b[32m    365\u001b[39m \u001b[38;5;28;01mif\u001b[39;00m _backend_mod \u001b[38;5;129;01mis\u001b[39;00m \u001b[38;5;28;01mNone\u001b[39;00m:\n\u001b[32m    366\u001b[39m     \u001b[38;5;66;03m# Use rcParams._get(\"backend\") to avoid going through the fallback\u001b[39;00m\n\u001b[32m    367\u001b[39m     \u001b[38;5;66;03m# logic (which will (re)import pyplot and then call switch_backend if\u001b[39;00m\n\u001b[32m    368\u001b[39m     \u001b[38;5;66;03m# we need to resolve the auto sentinel)\u001b[39;00m\n\u001b[32m--> \u001b[39m\u001b[32m369\u001b[39m     \u001b[43mswitch_backend\u001b[49m\u001b[43m(\u001b[49m\u001b[43mrcParams\u001b[49m\u001b[43m.\u001b[49m\u001b[43m_get\u001b[49m\u001b[43m(\u001b[49m\u001b[33;43m\"\u001b[39;49m\u001b[33;43mbackend\u001b[39;49m\u001b[33;43m\"\u001b[39;49m\u001b[43m)\u001b[49m\u001b[43m)\u001b[49m\n\u001b[32m    370\u001b[39m \u001b[38;5;28;01mreturn\u001b[39;00m cast(\u001b[38;5;28mtype\u001b[39m[matplotlib.backend_bases._Backend], _backend_mod)\n",
      "\u001b[36mFile \u001b[39m\u001b[32mc:\\Users\\SangminPark\\anaconda3\\envs\\stock_program\\Lib\\site-packages\\matplotlib\\pyplot.py:425\u001b[39m, in \u001b[36mswitch_backend\u001b[39m\u001b[34m(newbackend)\u001b[39m\n\u001b[32m    422\u001b[39m         \u001b[38;5;28;01mreturn\u001b[39;00m\n\u001b[32m    423\u001b[39m old_backend = rcParams._get(\u001b[33m'\u001b[39m\u001b[33mbackend\u001b[39m\u001b[33m'\u001b[39m)  \u001b[38;5;66;03m# get without triggering backend resolution\u001b[39;00m\n\u001b[32m--> \u001b[39m\u001b[32m425\u001b[39m module = \u001b[43mbackend_registry\u001b[49m\u001b[43m.\u001b[49m\u001b[43mload_backend_module\u001b[49m\u001b[43m(\u001b[49m\u001b[43mnewbackend\u001b[49m\u001b[43m)\u001b[49m\n\u001b[32m    426\u001b[39m canvas_class = module.FigureCanvas\n\u001b[32m    428\u001b[39m required_framework = canvas_class.required_interactive_framework\n",
      "\u001b[36mFile \u001b[39m\u001b[32mc:\\Users\\SangminPark\\anaconda3\\envs\\stock_program\\Lib\\site-packages\\matplotlib\\backends\\registry.py:317\u001b[39m, in \u001b[36mBackendRegistry.load_backend_module\u001b[39m\u001b[34m(self, backend)\u001b[39m\n\u001b[32m    303\u001b[39m \u001b[38;5;250m\u001b[39m\u001b[33;03m\"\"\"\u001b[39;00m\n\u001b[32m    304\u001b[39m \u001b[33;03mLoad and return the module containing the specified backend.\u001b[39;00m\n\u001b[32m    305\u001b[39m \n\u001b[32m   (...)\u001b[39m\u001b[32m    314\u001b[39m \u001b[33;03m    Module containing backend.\u001b[39;00m\n\u001b[32m    315\u001b[39m \u001b[33;03m\"\"\"\u001b[39;00m\n\u001b[32m    316\u001b[39m module_name = \u001b[38;5;28mself\u001b[39m._backend_module_name(backend)\n\u001b[32m--> \u001b[39m\u001b[32m317\u001b[39m \u001b[38;5;28;01mreturn\u001b[39;00m \u001b[43mimportlib\u001b[49m\u001b[43m.\u001b[49m\u001b[43mimport_module\u001b[49m\u001b[43m(\u001b[49m\u001b[43mmodule_name\u001b[49m\u001b[43m)\u001b[49m\n",
      "\u001b[36mFile \u001b[39m\u001b[32mc:\\Users\\SangminPark\\anaconda3\\envs\\stock_program\\Lib\\importlib\\__init__.py:126\u001b[39m, in \u001b[36mimport_module\u001b[39m\u001b[34m(name, package)\u001b[39m\n\u001b[32m    124\u001b[39m             \u001b[38;5;28;01mbreak\u001b[39;00m\n\u001b[32m    125\u001b[39m         level += \u001b[32m1\u001b[39m\n\u001b[32m--> \u001b[39m\u001b[32m126\u001b[39m \u001b[38;5;28;01mreturn\u001b[39;00m \u001b[43m_bootstrap\u001b[49m\u001b[43m.\u001b[49m\u001b[43m_gcd_import\u001b[49m\u001b[43m(\u001b[49m\u001b[43mname\u001b[49m\u001b[43m[\u001b[49m\u001b[43mlevel\u001b[49m\u001b[43m:\u001b[49m\u001b[43m]\u001b[49m\u001b[43m,\u001b[49m\u001b[43m \u001b[49m\u001b[43mpackage\u001b[49m\u001b[43m,\u001b[49m\u001b[43m \u001b[49m\u001b[43mlevel\u001b[49m\u001b[43m)\u001b[49m\n",
      "\u001b[36mFile \u001b[39m\u001b[32m<frozen importlib._bootstrap>:1204\u001b[39m, in \u001b[36m_gcd_import\u001b[39m\u001b[34m(name, package, level)\u001b[39m\n",
      "\u001b[36mFile \u001b[39m\u001b[32m<frozen importlib._bootstrap>:1176\u001b[39m, in \u001b[36m_find_and_load\u001b[39m\u001b[34m(name, import_)\u001b[39m\n",
      "\u001b[36mFile \u001b[39m\u001b[32m<frozen importlib._bootstrap>:1147\u001b[39m, in \u001b[36m_find_and_load_unlocked\u001b[39m\u001b[34m(name, import_)\u001b[39m\n",
      "\u001b[36mFile \u001b[39m\u001b[32m<frozen importlib._bootstrap>:690\u001b[39m, in \u001b[36m_load_unlocked\u001b[39m\u001b[34m(spec)\u001b[39m\n",
      "\u001b[36mFile \u001b[39m\u001b[32m<frozen importlib._bootstrap_external>:940\u001b[39m, in \u001b[36mexec_module\u001b[39m\u001b[34m(self, module)\u001b[39m\n",
      "\u001b[36mFile \u001b[39m\u001b[32m<frozen importlib._bootstrap>:241\u001b[39m, in \u001b[36m_call_with_frames_removed\u001b[39m\u001b[34m(f, *args, **kwds)\u001b[39m\n",
      "\u001b[36mFile \u001b[39m\u001b[32mc:\\Users\\SangminPark\\anaconda3\\envs\\stock_program\\Lib\\site-packages\\matplotlib\\backends\\backend_qt5agg.py:7\u001b[39m\n\u001b[32m      4\u001b[39m \u001b[38;5;28;01mfrom\u001b[39;00m\u001b[38;5;250m \u001b[39m\u001b[34;01m.\u001b[39;00m\u001b[34;01m.\u001b[39;00m\u001b[38;5;250m \u001b[39m\u001b[38;5;28;01mimport\u001b[39;00m backends\n\u001b[32m      6\u001b[39m backends._QT_FORCE_QT5_BINDING = \u001b[38;5;28;01mTrue\u001b[39;00m\n\u001b[32m----> \u001b[39m\u001b[32m7\u001b[39m \u001b[38;5;28;01mfrom\u001b[39;00m\u001b[38;5;250m \u001b[39m\u001b[34;01m.\u001b[39;00m\u001b[34;01mbackend_qtagg\u001b[39;00m\u001b[38;5;250m \u001b[39m\u001b[38;5;28;01mimport\u001b[39;00m (    \u001b[38;5;66;03m# noqa: F401, E402 # pylint: disable=W0611\u001b[39;00m\n\u001b[32m      8\u001b[39m     _BackendQTAgg, FigureCanvasQTAgg, FigureManagerQT, NavigationToolbar2QT,\n\u001b[32m      9\u001b[39m     FigureCanvasAgg, FigureCanvasQT)\n\u001b[32m     12\u001b[39m \u001b[38;5;129m@_BackendQTAgg\u001b[39m.export\n\u001b[32m     13\u001b[39m \u001b[38;5;28;01mclass\u001b[39;00m\u001b[38;5;250m \u001b[39m\u001b[34;01m_BackendQT5Agg\u001b[39;00m(_BackendQTAgg):\n\u001b[32m     14\u001b[39m     \u001b[38;5;28;01mpass\u001b[39;00m\n",
      "\u001b[36mFile \u001b[39m\u001b[32mc:\\Users\\SangminPark\\anaconda3\\envs\\stock_program\\Lib\\site-packages\\matplotlib\\backends\\backend_qtagg.py:9\u001b[39m\n\u001b[32m      5\u001b[39m \u001b[38;5;28;01mimport\u001b[39;00m\u001b[38;5;250m \u001b[39m\u001b[34;01mctypes\u001b[39;00m\n\u001b[32m      7\u001b[39m \u001b[38;5;28;01mfrom\u001b[39;00m\u001b[38;5;250m \u001b[39m\u001b[34;01mmatplotlib\u001b[39;00m\u001b[34;01m.\u001b[39;00m\u001b[34;01mtransforms\u001b[39;00m\u001b[38;5;250m \u001b[39m\u001b[38;5;28;01mimport\u001b[39;00m Bbox\n\u001b[32m----> \u001b[39m\u001b[32m9\u001b[39m \u001b[38;5;28;01mfrom\u001b[39;00m\u001b[38;5;250m \u001b[39m\u001b[34;01m.\u001b[39;00m\u001b[34;01mqt_compat\u001b[39;00m\u001b[38;5;250m \u001b[39m\u001b[38;5;28;01mimport\u001b[39;00m QT_API, QtCore, QtGui\n\u001b[32m     10\u001b[39m \u001b[38;5;28;01mfrom\u001b[39;00m\u001b[38;5;250m \u001b[39m\u001b[34;01m.\u001b[39;00m\u001b[34;01mbackend_agg\u001b[39;00m\u001b[38;5;250m \u001b[39m\u001b[38;5;28;01mimport\u001b[39;00m FigureCanvasAgg\n\u001b[32m     11\u001b[39m \u001b[38;5;28;01mfrom\u001b[39;00m\u001b[38;5;250m \u001b[39m\u001b[34;01m.\u001b[39;00m\u001b[34;01mbackend_qt\u001b[39;00m\u001b[38;5;250m \u001b[39m\u001b[38;5;28;01mimport\u001b[39;00m _BackendQT, FigureCanvasQT\n",
      "\u001b[36mFile \u001b[39m\u001b[32mc:\\Users\\SangminPark\\anaconda3\\envs\\stock_program\\Lib\\site-packages\\matplotlib\\backends\\qt_compat.py:130\u001b[39m\n\u001b[32m    128\u001b[39m         \u001b[38;5;28;01mbreak\u001b[39;00m\n\u001b[32m    129\u001b[39m     \u001b[38;5;28;01melse\u001b[39;00m:\n\u001b[32m--> \u001b[39m\u001b[32m130\u001b[39m         \u001b[38;5;28;01mraise\u001b[39;00m \u001b[38;5;167;01mImportError\u001b[39;00m(\n\u001b[32m    131\u001b[39m             \u001b[33m\"\u001b[39m\u001b[33mFailed to import any of the following Qt binding modules: \u001b[39m\u001b[38;5;132;01m{}\u001b[39;00m\u001b[33m\"\u001b[39m\n\u001b[32m    132\u001b[39m             .format(\u001b[33m\"\u001b[39m\u001b[33m, \u001b[39m\u001b[33m\"\u001b[39m.join([QT_API \u001b[38;5;28;01mfor\u001b[39;00m _, QT_API \u001b[38;5;129;01min\u001b[39;00m _candidates]))\n\u001b[32m    133\u001b[39m         )\n\u001b[32m    134\u001b[39m \u001b[38;5;28;01melse\u001b[39;00m:  \u001b[38;5;66;03m# We should not get there.\u001b[39;00m\n\u001b[32m    135\u001b[39m     \u001b[38;5;28;01mraise\u001b[39;00m \u001b[38;5;167;01mAssertionError\u001b[39;00m(\u001b[33mf\u001b[39m\u001b[33m\"\u001b[39m\u001b[33mUnexpected QT_API: \u001b[39m\u001b[38;5;132;01m{\u001b[39;00mQT_API\u001b[38;5;132;01m}\u001b[39;00m\u001b[33m\"\u001b[39m)\n",
      "\u001b[31mImportError\u001b[39m: Failed to import any of the following Qt binding modules: PyQt5, PySide2"
     ]
    }
   ],
   "source": [
    "# 결측 데이터 시각화\n",
    "\n",
    "import missingno\n",
    "\n",
    "missingno.matrix(df)"
   ]
  },
  {
   "cell_type": "code",
   "execution_count": 38,
   "metadata": {},
   "outputs": [
    {
     "ename": "ImportError",
     "evalue": "Failed to import any of the following Qt binding modules: PyQt5, PySide2",
     "output_type": "error",
     "traceback": [
      "\u001b[31m---------------------------------------------------------------------------\u001b[39m",
      "\u001b[31mImportError\u001b[39m                               Traceback (most recent call last)",
      "\u001b[36mCell\u001b[39m\u001b[36m \u001b[39m\u001b[32mIn[38]\u001b[39m\u001b[32m, line 2\u001b[39m\n\u001b[32m      1\u001b[39m \u001b[38;5;66;03m# 일산화탄소(CO) 시계열 시각화\u001b[39;00m\n\u001b[32m----> \u001b[39m\u001b[32m2\u001b[39m \u001b[43mdf\u001b[49m\u001b[43m[\u001b[49m\u001b[33;43m'\u001b[39;49m\u001b[33;43mCO(GT)\u001b[39;49m\u001b[33;43m'\u001b[39;49m\u001b[43m]\u001b[49m\u001b[43m.\u001b[49m\u001b[43mplot\u001b[49m\u001b[43m(\u001b[49m\u001b[43m)\u001b[49m\n",
      "\u001b[36mFile \u001b[39m\u001b[32mc:\\Users\\SangminPark\\anaconda3\\envs\\stock_program\\Lib\\site-packages\\pandas\\plotting\\_core.py:1030\u001b[39m, in \u001b[36mPlotAccessor.__call__\u001b[39m\u001b[34m(self, *args, **kwargs)\u001b[39m\n\u001b[32m   1027\u001b[39m             label_name = label_kw \u001b[38;5;129;01mor\u001b[39;00m data.columns\n\u001b[32m   1028\u001b[39m             data.columns = label_name\n\u001b[32m-> \u001b[39m\u001b[32m1030\u001b[39m \u001b[38;5;28;01mreturn\u001b[39;00m \u001b[43mplot_backend\u001b[49m\u001b[43m.\u001b[49m\u001b[43mplot\u001b[49m\u001b[43m(\u001b[49m\u001b[43mdata\u001b[49m\u001b[43m,\u001b[49m\u001b[43m \u001b[49m\u001b[43mkind\u001b[49m\u001b[43m=\u001b[49m\u001b[43mkind\u001b[49m\u001b[43m,\u001b[49m\u001b[43m \u001b[49m\u001b[43m*\u001b[49m\u001b[43m*\u001b[49m\u001b[43mkwargs\u001b[49m\u001b[43m)\u001b[49m\n",
      "\u001b[36mFile \u001b[39m\u001b[32mc:\\Users\\SangminPark\\anaconda3\\envs\\stock_program\\Lib\\site-packages\\pandas\\plotting\\_matplotlib\\__init__.py:71\u001b[39m, in \u001b[36mplot\u001b[39m\u001b[34m(data, kind, **kwargs)\u001b[39m\n\u001b[32m     69\u001b[39m         kwargs[\u001b[33m\"\u001b[39m\u001b[33max\u001b[39m\u001b[33m\"\u001b[39m] = \u001b[38;5;28mgetattr\u001b[39m(ax, \u001b[33m\"\u001b[39m\u001b[33mleft_ax\u001b[39m\u001b[33m\"\u001b[39m, ax)\n\u001b[32m     70\u001b[39m plot_obj = PLOT_CLASSES[kind](data, **kwargs)\n\u001b[32m---> \u001b[39m\u001b[32m71\u001b[39m \u001b[43mplot_obj\u001b[49m\u001b[43m.\u001b[49m\u001b[43mgenerate\u001b[49m\u001b[43m(\u001b[49m\u001b[43m)\u001b[49m\n\u001b[32m     72\u001b[39m plot_obj.draw()\n\u001b[32m     73\u001b[39m \u001b[38;5;28;01mreturn\u001b[39;00m plot_obj.result\n",
      "\u001b[36mFile \u001b[39m\u001b[32mc:\\Users\\SangminPark\\anaconda3\\envs\\stock_program\\Lib\\site-packages\\pandas\\plotting\\_matplotlib\\core.py:500\u001b[39m, in \u001b[36mMPLPlot.generate\u001b[39m\u001b[34m(self)\u001b[39m\n\u001b[32m    497\u001b[39m \u001b[38;5;129m@final\u001b[39m\n\u001b[32m    498\u001b[39m \u001b[38;5;28;01mdef\u001b[39;00m\u001b[38;5;250m \u001b[39m\u001b[34mgenerate\u001b[39m(\u001b[38;5;28mself\u001b[39m) -> \u001b[38;5;28;01mNone\u001b[39;00m:\n\u001b[32m    499\u001b[39m     \u001b[38;5;28mself\u001b[39m._compute_plot_data()\n\u001b[32m--> \u001b[39m\u001b[32m500\u001b[39m     fig = \u001b[38;5;28;43mself\u001b[39;49m\u001b[43m.\u001b[49m\u001b[43mfig\u001b[49m\n\u001b[32m    501\u001b[39m     \u001b[38;5;28mself\u001b[39m._make_plot(fig)\n\u001b[32m    502\u001b[39m     \u001b[38;5;28mself\u001b[39m._add_table()\n",
      "\u001b[36mFile \u001b[39m\u001b[32mproperties.pyx:36\u001b[39m, in \u001b[36mpandas._libs.properties.CachedProperty.__get__\u001b[39m\u001b[34m()\u001b[39m\n",
      "\u001b[36mFile \u001b[39m\u001b[32mc:\\Users\\SangminPark\\anaconda3\\envs\\stock_program\\Lib\\site-packages\\pandas\\plotting\\_matplotlib\\core.py:555\u001b[39m, in \u001b[36mMPLPlot.fig\u001b[39m\u001b[34m(self)\u001b[39m\n\u001b[32m    552\u001b[39m \u001b[38;5;129m@final\u001b[39m\n\u001b[32m    553\u001b[39m \u001b[38;5;129m@cache_readonly\u001b[39m\n\u001b[32m    554\u001b[39m \u001b[38;5;28;01mdef\u001b[39;00m\u001b[38;5;250m \u001b[39m\u001b[34mfig\u001b[39m(\u001b[38;5;28mself\u001b[39m) -> Figure:\n\u001b[32m--> \u001b[39m\u001b[32m555\u001b[39m     \u001b[38;5;28;01mreturn\u001b[39;00m \u001b[38;5;28;43mself\u001b[39;49m\u001b[43m.\u001b[49m\u001b[43m_axes_and_fig\u001b[49m[\u001b[32m1\u001b[39m]\n",
      "\u001b[36mFile \u001b[39m\u001b[32mproperties.pyx:36\u001b[39m, in \u001b[36mpandas._libs.properties.CachedProperty.__get__\u001b[39m\u001b[34m()\u001b[39m\n",
      "\u001b[36mFile \u001b[39m\u001b[32mc:\\Users\\SangminPark\\anaconda3\\envs\\stock_program\\Lib\\site-packages\\pandas\\plotting\\_matplotlib\\core.py:580\u001b[39m, in \u001b[36mMPLPlot._axes_and_fig\u001b[39m\u001b[34m(self)\u001b[39m\n\u001b[32m    570\u001b[39m     fig, axes = create_subplots(\n\u001b[32m    571\u001b[39m         naxes=naxes,\n\u001b[32m    572\u001b[39m         sharex=\u001b[38;5;28mself\u001b[39m.sharex,\n\u001b[32m   (...)\u001b[39m\u001b[32m    577\u001b[39m         layout_type=\u001b[38;5;28mself\u001b[39m._layout_type,\n\u001b[32m    578\u001b[39m     )\n\u001b[32m    579\u001b[39m \u001b[38;5;28;01melif\u001b[39;00m \u001b[38;5;28mself\u001b[39m.ax \u001b[38;5;129;01mis\u001b[39;00m \u001b[38;5;28;01mNone\u001b[39;00m:\n\u001b[32m--> \u001b[39m\u001b[32m580\u001b[39m     fig = \u001b[38;5;28;43mself\u001b[39;49m\u001b[43m.\u001b[49m\u001b[43mplt\u001b[49m\u001b[43m.\u001b[49m\u001b[43mfigure\u001b[49m\u001b[43m(\u001b[49m\u001b[43mfigsize\u001b[49m\u001b[43m=\u001b[49m\u001b[38;5;28;43mself\u001b[39;49m\u001b[43m.\u001b[49m\u001b[43mfigsize\u001b[49m\u001b[43m)\u001b[49m\n\u001b[32m    581\u001b[39m     axes = fig.add_subplot(\u001b[32m111\u001b[39m)\n\u001b[32m    582\u001b[39m \u001b[38;5;28;01melse\u001b[39;00m:\n",
      "\u001b[36mFile \u001b[39m\u001b[32mc:\\Users\\SangminPark\\anaconda3\\envs\\stock_program\\Lib\\site-packages\\matplotlib\\pyplot.py:1042\u001b[39m, in \u001b[36mfigure\u001b[39m\u001b[34m(num, figsize, dpi, facecolor, edgecolor, frameon, FigureClass, clear, **kwargs)\u001b[39m\n\u001b[32m   1032\u001b[39m \u001b[38;5;28;01mif\u001b[39;00m \u001b[38;5;28mlen\u001b[39m(allnums) == max_open_warning >= \u001b[32m1\u001b[39m:\n\u001b[32m   1033\u001b[39m     _api.warn_external(\n\u001b[32m   1034\u001b[39m         \u001b[33mf\u001b[39m\u001b[33m\"\u001b[39m\u001b[33mMore than \u001b[39m\u001b[38;5;132;01m{\u001b[39;00mmax_open_warning\u001b[38;5;132;01m}\u001b[39;00m\u001b[33m figures have been opened. \u001b[39m\u001b[33m\"\u001b[39m\n\u001b[32m   1035\u001b[39m         \u001b[33mf\u001b[39m\u001b[33m\"\u001b[39m\u001b[33mFigures created through the pyplot interface \u001b[39m\u001b[33m\"\u001b[39m\n\u001b[32m   (...)\u001b[39m\u001b[32m   1039\u001b[39m         \u001b[33mf\u001b[39m\u001b[33m\"\u001b[39m\u001b[33mConsider using `matplotlib.pyplot.close()`.\u001b[39m\u001b[33m\"\u001b[39m,\n\u001b[32m   1040\u001b[39m         \u001b[38;5;167;01mRuntimeWarning\u001b[39;00m)\n\u001b[32m-> \u001b[39m\u001b[32m1042\u001b[39m manager = \u001b[43mnew_figure_manager\u001b[49m\u001b[43m(\u001b[49m\n\u001b[32m   1043\u001b[39m \u001b[43m    \u001b[49m\u001b[43mnum\u001b[49m\u001b[43m,\u001b[49m\u001b[43m \u001b[49m\u001b[43mfigsize\u001b[49m\u001b[43m=\u001b[49m\u001b[43mfigsize\u001b[49m\u001b[43m,\u001b[49m\u001b[43m \u001b[49m\u001b[43mdpi\u001b[49m\u001b[43m=\u001b[49m\u001b[43mdpi\u001b[49m\u001b[43m,\u001b[49m\n\u001b[32m   1044\u001b[39m \u001b[43m    \u001b[49m\u001b[43mfacecolor\u001b[49m\u001b[43m=\u001b[49m\u001b[43mfacecolor\u001b[49m\u001b[43m,\u001b[49m\u001b[43m \u001b[49m\u001b[43medgecolor\u001b[49m\u001b[43m=\u001b[49m\u001b[43medgecolor\u001b[49m\u001b[43m,\u001b[49m\u001b[43m \u001b[49m\u001b[43mframeon\u001b[49m\u001b[43m=\u001b[49m\u001b[43mframeon\u001b[49m\u001b[43m,\u001b[49m\n\u001b[32m   1045\u001b[39m \u001b[43m    \u001b[49m\u001b[43mFigureClass\u001b[49m\u001b[43m=\u001b[49m\u001b[43mFigureClass\u001b[49m\u001b[43m,\u001b[49m\u001b[43m \u001b[49m\u001b[43m*\u001b[49m\u001b[43m*\u001b[49m\u001b[43mkwargs\u001b[49m\u001b[43m)\u001b[49m\n\u001b[32m   1046\u001b[39m fig = manager.canvas.figure\n\u001b[32m   1047\u001b[39m \u001b[38;5;28;01mif\u001b[39;00m fig_label:\n",
      "\u001b[36mFile \u001b[39m\u001b[32mc:\\Users\\SangminPark\\anaconda3\\envs\\stock_program\\Lib\\site-packages\\matplotlib\\pyplot.py:551\u001b[39m, in \u001b[36mnew_figure_manager\u001b[39m\u001b[34m(*args, **kwargs)\u001b[39m\n\u001b[32m    549\u001b[39m \u001b[38;5;28;01mdef\u001b[39;00m\u001b[38;5;250m \u001b[39m\u001b[34mnew_figure_manager\u001b[39m(*args, **kwargs):\n\u001b[32m    550\u001b[39m \u001b[38;5;250m    \u001b[39m\u001b[33;03m\"\"\"Create a new figure manager instance.\"\"\"\u001b[39;00m\n\u001b[32m--> \u001b[39m\u001b[32m551\u001b[39m     \u001b[43m_warn_if_gui_out_of_main_thread\u001b[49m\u001b[43m(\u001b[49m\u001b[43m)\u001b[49m\n\u001b[32m    552\u001b[39m     \u001b[38;5;28;01mreturn\u001b[39;00m _get_backend_mod().new_figure_manager(*args, **kwargs)\n",
      "\u001b[36mFile \u001b[39m\u001b[32mc:\\Users\\SangminPark\\anaconda3\\envs\\stock_program\\Lib\\site-packages\\matplotlib\\pyplot.py:528\u001b[39m, in \u001b[36m_warn_if_gui_out_of_main_thread\u001b[39m\u001b[34m()\u001b[39m\n\u001b[32m    526\u001b[39m \u001b[38;5;28;01mdef\u001b[39;00m\u001b[38;5;250m \u001b[39m\u001b[34m_warn_if_gui_out_of_main_thread\u001b[39m() -> \u001b[38;5;28;01mNone\u001b[39;00m:\n\u001b[32m    527\u001b[39m     warn = \u001b[38;5;28;01mFalse\u001b[39;00m\n\u001b[32m--> \u001b[39m\u001b[32m528\u001b[39m     canvas_class = cast(\u001b[38;5;28mtype\u001b[39m[FigureCanvasBase], \u001b[43m_get_backend_mod\u001b[49m\u001b[43m(\u001b[49m\u001b[43m)\u001b[49m.FigureCanvas)\n\u001b[32m    529\u001b[39m     \u001b[38;5;28;01mif\u001b[39;00m canvas_class.required_interactive_framework:\n\u001b[32m    530\u001b[39m         \u001b[38;5;28;01mif\u001b[39;00m \u001b[38;5;28mhasattr\u001b[39m(threading, \u001b[33m'\u001b[39m\u001b[33mget_native_id\u001b[39m\u001b[33m'\u001b[39m):\n\u001b[32m    531\u001b[39m             \u001b[38;5;66;03m# This compares native thread ids because even if Python-level\u001b[39;00m\n\u001b[32m    532\u001b[39m             \u001b[38;5;66;03m# Thread objects match, the underlying OS thread (which is what\u001b[39;00m\n\u001b[32m    533\u001b[39m             \u001b[38;5;66;03m# really matters) may be different on Python implementations with\u001b[39;00m\n\u001b[32m    534\u001b[39m             \u001b[38;5;66;03m# green threads.\u001b[39;00m\n",
      "\u001b[36mFile \u001b[39m\u001b[32mc:\\Users\\SangminPark\\anaconda3\\envs\\stock_program\\Lib\\site-packages\\matplotlib\\pyplot.py:369\u001b[39m, in \u001b[36m_get_backend_mod\u001b[39m\u001b[34m()\u001b[39m\n\u001b[32m    360\u001b[39m \u001b[38;5;250m\u001b[39m\u001b[33;03m\"\"\"\u001b[39;00m\n\u001b[32m    361\u001b[39m \u001b[33;03mEnsure that a backend is selected and return it.\u001b[39;00m\n\u001b[32m    362\u001b[39m \n\u001b[32m    363\u001b[39m \u001b[33;03mThis is currently private, but may be made public in the future.\u001b[39;00m\n\u001b[32m    364\u001b[39m \u001b[33;03m\"\"\"\u001b[39;00m\n\u001b[32m    365\u001b[39m \u001b[38;5;28;01mif\u001b[39;00m _backend_mod \u001b[38;5;129;01mis\u001b[39;00m \u001b[38;5;28;01mNone\u001b[39;00m:\n\u001b[32m    366\u001b[39m     \u001b[38;5;66;03m# Use rcParams._get(\"backend\") to avoid going through the fallback\u001b[39;00m\n\u001b[32m    367\u001b[39m     \u001b[38;5;66;03m# logic (which will (re)import pyplot and then call switch_backend if\u001b[39;00m\n\u001b[32m    368\u001b[39m     \u001b[38;5;66;03m# we need to resolve the auto sentinel)\u001b[39;00m\n\u001b[32m--> \u001b[39m\u001b[32m369\u001b[39m     \u001b[43mswitch_backend\u001b[49m\u001b[43m(\u001b[49m\u001b[43mrcParams\u001b[49m\u001b[43m.\u001b[49m\u001b[43m_get\u001b[49m\u001b[43m(\u001b[49m\u001b[33;43m\"\u001b[39;49m\u001b[33;43mbackend\u001b[39;49m\u001b[33;43m\"\u001b[39;49m\u001b[43m)\u001b[49m\u001b[43m)\u001b[49m\n\u001b[32m    370\u001b[39m \u001b[38;5;28;01mreturn\u001b[39;00m cast(\u001b[38;5;28mtype\u001b[39m[matplotlib.backend_bases._Backend], _backend_mod)\n",
      "\u001b[36mFile \u001b[39m\u001b[32mc:\\Users\\SangminPark\\anaconda3\\envs\\stock_program\\Lib\\site-packages\\matplotlib\\pyplot.py:425\u001b[39m, in \u001b[36mswitch_backend\u001b[39m\u001b[34m(newbackend)\u001b[39m\n\u001b[32m    422\u001b[39m         \u001b[38;5;28;01mreturn\u001b[39;00m\n\u001b[32m    423\u001b[39m old_backend = rcParams._get(\u001b[33m'\u001b[39m\u001b[33mbackend\u001b[39m\u001b[33m'\u001b[39m)  \u001b[38;5;66;03m# get without triggering backend resolution\u001b[39;00m\n\u001b[32m--> \u001b[39m\u001b[32m425\u001b[39m module = \u001b[43mbackend_registry\u001b[49m\u001b[43m.\u001b[49m\u001b[43mload_backend_module\u001b[49m\u001b[43m(\u001b[49m\u001b[43mnewbackend\u001b[49m\u001b[43m)\u001b[49m\n\u001b[32m    426\u001b[39m canvas_class = module.FigureCanvas\n\u001b[32m    428\u001b[39m required_framework = canvas_class.required_interactive_framework\n",
      "\u001b[36mFile \u001b[39m\u001b[32mc:\\Users\\SangminPark\\anaconda3\\envs\\stock_program\\Lib\\site-packages\\matplotlib\\backends\\registry.py:317\u001b[39m, in \u001b[36mBackendRegistry.load_backend_module\u001b[39m\u001b[34m(self, backend)\u001b[39m\n\u001b[32m    303\u001b[39m \u001b[38;5;250m\u001b[39m\u001b[33;03m\"\"\"\u001b[39;00m\n\u001b[32m    304\u001b[39m \u001b[33;03mLoad and return the module containing the specified backend.\u001b[39;00m\n\u001b[32m    305\u001b[39m \n\u001b[32m   (...)\u001b[39m\u001b[32m    314\u001b[39m \u001b[33;03m    Module containing backend.\u001b[39;00m\n\u001b[32m    315\u001b[39m \u001b[33;03m\"\"\"\u001b[39;00m\n\u001b[32m    316\u001b[39m module_name = \u001b[38;5;28mself\u001b[39m._backend_module_name(backend)\n\u001b[32m--> \u001b[39m\u001b[32m317\u001b[39m \u001b[38;5;28;01mreturn\u001b[39;00m \u001b[43mimportlib\u001b[49m\u001b[43m.\u001b[49m\u001b[43mimport_module\u001b[49m\u001b[43m(\u001b[49m\u001b[43mmodule_name\u001b[49m\u001b[43m)\u001b[49m\n",
      "\u001b[36mFile \u001b[39m\u001b[32mc:\\Users\\SangminPark\\anaconda3\\envs\\stock_program\\Lib\\importlib\\__init__.py:126\u001b[39m, in \u001b[36mimport_module\u001b[39m\u001b[34m(name, package)\u001b[39m\n\u001b[32m    124\u001b[39m             \u001b[38;5;28;01mbreak\u001b[39;00m\n\u001b[32m    125\u001b[39m         level += \u001b[32m1\u001b[39m\n\u001b[32m--> \u001b[39m\u001b[32m126\u001b[39m \u001b[38;5;28;01mreturn\u001b[39;00m \u001b[43m_bootstrap\u001b[49m\u001b[43m.\u001b[49m\u001b[43m_gcd_import\u001b[49m\u001b[43m(\u001b[49m\u001b[43mname\u001b[49m\u001b[43m[\u001b[49m\u001b[43mlevel\u001b[49m\u001b[43m:\u001b[49m\u001b[43m]\u001b[49m\u001b[43m,\u001b[49m\u001b[43m \u001b[49m\u001b[43mpackage\u001b[49m\u001b[43m,\u001b[49m\u001b[43m \u001b[49m\u001b[43mlevel\u001b[49m\u001b[43m)\u001b[49m\n",
      "\u001b[36mFile \u001b[39m\u001b[32m<frozen importlib._bootstrap>:1204\u001b[39m, in \u001b[36m_gcd_import\u001b[39m\u001b[34m(name, package, level)\u001b[39m\n",
      "\u001b[36mFile \u001b[39m\u001b[32m<frozen importlib._bootstrap>:1176\u001b[39m, in \u001b[36m_find_and_load\u001b[39m\u001b[34m(name, import_)\u001b[39m\n",
      "\u001b[36mFile \u001b[39m\u001b[32m<frozen importlib._bootstrap>:1147\u001b[39m, in \u001b[36m_find_and_load_unlocked\u001b[39m\u001b[34m(name, import_)\u001b[39m\n",
      "\u001b[36mFile \u001b[39m\u001b[32m<frozen importlib._bootstrap>:690\u001b[39m, in \u001b[36m_load_unlocked\u001b[39m\u001b[34m(spec)\u001b[39m\n",
      "\u001b[36mFile \u001b[39m\u001b[32m<frozen importlib._bootstrap_external>:940\u001b[39m, in \u001b[36mexec_module\u001b[39m\u001b[34m(self, module)\u001b[39m\n",
      "\u001b[36mFile \u001b[39m\u001b[32m<frozen importlib._bootstrap>:241\u001b[39m, in \u001b[36m_call_with_frames_removed\u001b[39m\u001b[34m(f, *args, **kwds)\u001b[39m\n",
      "\u001b[36mFile \u001b[39m\u001b[32mc:\\Users\\SangminPark\\anaconda3\\envs\\stock_program\\Lib\\site-packages\\matplotlib\\backends\\backend_qt5agg.py:7\u001b[39m\n\u001b[32m      4\u001b[39m \u001b[38;5;28;01mfrom\u001b[39;00m\u001b[38;5;250m \u001b[39m\u001b[34;01m.\u001b[39;00m\u001b[34;01m.\u001b[39;00m\u001b[38;5;250m \u001b[39m\u001b[38;5;28;01mimport\u001b[39;00m backends\n\u001b[32m      6\u001b[39m backends._QT_FORCE_QT5_BINDING = \u001b[38;5;28;01mTrue\u001b[39;00m\n\u001b[32m----> \u001b[39m\u001b[32m7\u001b[39m \u001b[38;5;28;01mfrom\u001b[39;00m\u001b[38;5;250m \u001b[39m\u001b[34;01m.\u001b[39;00m\u001b[34;01mbackend_qtagg\u001b[39;00m\u001b[38;5;250m \u001b[39m\u001b[38;5;28;01mimport\u001b[39;00m (    \u001b[38;5;66;03m# noqa: F401, E402 # pylint: disable=W0611\u001b[39;00m\n\u001b[32m      8\u001b[39m     _BackendQTAgg, FigureCanvasQTAgg, FigureManagerQT, NavigationToolbar2QT,\n\u001b[32m      9\u001b[39m     FigureCanvasAgg, FigureCanvasQT)\n\u001b[32m     12\u001b[39m \u001b[38;5;129m@_BackendQTAgg\u001b[39m.export\n\u001b[32m     13\u001b[39m \u001b[38;5;28;01mclass\u001b[39;00m\u001b[38;5;250m \u001b[39m\u001b[34;01m_BackendQT5Agg\u001b[39;00m(_BackendQTAgg):\n\u001b[32m     14\u001b[39m     \u001b[38;5;28;01mpass\u001b[39;00m\n",
      "\u001b[36mFile \u001b[39m\u001b[32mc:\\Users\\SangminPark\\anaconda3\\envs\\stock_program\\Lib\\site-packages\\matplotlib\\backends\\backend_qtagg.py:9\u001b[39m\n\u001b[32m      5\u001b[39m \u001b[38;5;28;01mimport\u001b[39;00m\u001b[38;5;250m \u001b[39m\u001b[34;01mctypes\u001b[39;00m\n\u001b[32m      7\u001b[39m \u001b[38;5;28;01mfrom\u001b[39;00m\u001b[38;5;250m \u001b[39m\u001b[34;01mmatplotlib\u001b[39;00m\u001b[34;01m.\u001b[39;00m\u001b[34;01mtransforms\u001b[39;00m\u001b[38;5;250m \u001b[39m\u001b[38;5;28;01mimport\u001b[39;00m Bbox\n\u001b[32m----> \u001b[39m\u001b[32m9\u001b[39m \u001b[38;5;28;01mfrom\u001b[39;00m\u001b[38;5;250m \u001b[39m\u001b[34;01m.\u001b[39;00m\u001b[34;01mqt_compat\u001b[39;00m\u001b[38;5;250m \u001b[39m\u001b[38;5;28;01mimport\u001b[39;00m QT_API, QtCore, QtGui\n\u001b[32m     10\u001b[39m \u001b[38;5;28;01mfrom\u001b[39;00m\u001b[38;5;250m \u001b[39m\u001b[34;01m.\u001b[39;00m\u001b[34;01mbackend_agg\u001b[39;00m\u001b[38;5;250m \u001b[39m\u001b[38;5;28;01mimport\u001b[39;00m FigureCanvasAgg\n\u001b[32m     11\u001b[39m \u001b[38;5;28;01mfrom\u001b[39;00m\u001b[38;5;250m \u001b[39m\u001b[34;01m.\u001b[39;00m\u001b[34;01mbackend_qt\u001b[39;00m\u001b[38;5;250m \u001b[39m\u001b[38;5;28;01mimport\u001b[39;00m _BackendQT, FigureCanvasQT\n",
      "\u001b[36mFile \u001b[39m\u001b[32mc:\\Users\\SangminPark\\anaconda3\\envs\\stock_program\\Lib\\site-packages\\matplotlib\\backends\\qt_compat.py:130\u001b[39m\n\u001b[32m    128\u001b[39m         \u001b[38;5;28;01mbreak\u001b[39;00m\n\u001b[32m    129\u001b[39m     \u001b[38;5;28;01melse\u001b[39;00m:\n\u001b[32m--> \u001b[39m\u001b[32m130\u001b[39m         \u001b[38;5;28;01mraise\u001b[39;00m \u001b[38;5;167;01mImportError\u001b[39;00m(\n\u001b[32m    131\u001b[39m             \u001b[33m\"\u001b[39m\u001b[33mFailed to import any of the following Qt binding modules: \u001b[39m\u001b[38;5;132;01m{}\u001b[39;00m\u001b[33m\"\u001b[39m\n\u001b[32m    132\u001b[39m             .format(\u001b[33m\"\u001b[39m\u001b[33m, \u001b[39m\u001b[33m\"\u001b[39m.join([QT_API \u001b[38;5;28;01mfor\u001b[39;00m _, QT_API \u001b[38;5;129;01min\u001b[39;00m _candidates]))\n\u001b[32m    133\u001b[39m         )\n\u001b[32m    134\u001b[39m \u001b[38;5;28;01melse\u001b[39;00m:  \u001b[38;5;66;03m# We should not get there.\u001b[39;00m\n\u001b[32m    135\u001b[39m     \u001b[38;5;28;01mraise\u001b[39;00m \u001b[38;5;167;01mAssertionError\u001b[39;00m(\u001b[33mf\u001b[39m\u001b[33m\"\u001b[39m\u001b[33mUnexpected QT_API: \u001b[39m\u001b[38;5;132;01m{\u001b[39;00mQT_API\u001b[38;5;132;01m}\u001b[39;00m\u001b[33m\"\u001b[39m)\n",
      "\u001b[31mImportError\u001b[39m: Failed to import any of the following Qt binding modules: PyQt5, PySide2"
     ]
    }
   ],
   "source": [
    "# 일산화탄소(CO) 시계열 시각화\n",
    "df['CO(GT)'].plot()"
   ]
  },
  {
   "cell_type": "code",
   "execution_count": null,
   "metadata": {},
   "outputs": [],
   "source": [
    "# 결측치 대치\n",
    "imp_locf = df['CO(GT)'].copy().ffill() # LOCF\n",
    "imp_nocb = df['CO(GT)'].copy().bfill() # NOCB\n",
    "imp_linear = df['CO(GT)'].copy().interpolate() # 선형 보간\n",
    "imp_mean = df['CO(GT)'].copy().fillna(df['CO(GT)'].mean())  # 평균값 대체"
   ]
  },
  {
   "cell_type": "code",
   "execution_count": null,
   "metadata": {},
   "outputs": [],
   "source": [
    "# K-NN 대치\n",
    "from sklearn.impute import KNNImputer\n",
    "\n",
    "imputer = KNNImputer(n_neighbors=2)    # default: 2\n",
    "imp_knn = df.copy().values\n",
    "imp_knn = imputer.fit_transform(imp_knn)"
   ]
  },
  {
   "cell_type": "code",
   "execution_count": null,
   "metadata": {},
   "outputs": [],
   "source": [
    "# K-NN 대치 결과 변환(ndarray -> DataFrame)\n",
    "imp_df = pd.DataFrame(imp_knn, index=imp_locf.index, columns=df.columns)"
   ]
  },
  {
   "cell_type": "code",
   "execution_count": 39,
   "metadata": {},
   "outputs": [
    {
     "ename": "ImportError",
     "evalue": "Failed to import any of the following Qt binding modules: PyQt5, PySide2",
     "output_type": "error",
     "traceback": [
      "\u001b[31m---------------------------------------------------------------------------\u001b[39m",
      "\u001b[31mImportError\u001b[39m                               Traceback (most recent call last)",
      "\u001b[36mCell\u001b[39m\u001b[36m \u001b[39m\u001b[32mIn[39]\u001b[39m\u001b[32m, line 2\u001b[39m\n\u001b[32m      1\u001b[39m \u001b[38;5;66;03m# 결측치 처리 결과 시각화\u001b[39;00m\n\u001b[32m----> \u001b[39m\u001b[32m2\u001b[39m \u001b[43mplt\u001b[49m\u001b[43m.\u001b[49m\u001b[43mplot\u001b[49m\u001b[43m(\u001b[49m\u001b[43mdf\u001b[49m\u001b[43m[\u001b[49m\u001b[33;43m'\u001b[39;49m\u001b[33;43mCO(GT)\u001b[39;49m\u001b[33;43m'\u001b[39;49m\u001b[43m]\u001b[49m\u001b[43m,\u001b[49m\u001b[43m \u001b[49m\u001b[43mlabel\u001b[49m\u001b[43m=\u001b[49m\u001b[33;43m'\u001b[39;49m\u001b[33;43mactual\u001b[39;49m\u001b[33;43m'\u001b[39;49m\u001b[43m,\u001b[49m\u001b[43m \u001b[49m\u001b[43mzorder\u001b[49m\u001b[43m=\u001b[49m\u001b[32;43m10\u001b[39;49m\u001b[43m)\u001b[49m\n\u001b[32m      3\u001b[39m plt.plot(imp_linear, label=\u001b[33m'\u001b[39m\u001b[33mlinear interpolation\u001b[39m\u001b[33m'\u001b[39m, zorder=\u001b[32m3\u001b[39m)\n\u001b[32m      4\u001b[39m plt.plot(imp_nocb, label=\u001b[33m'\u001b[39m\u001b[33mnocb\u001b[39m\u001b[33m'\u001b[39m, zorder=\u001b[32m2\u001b[39m)\n",
      "\u001b[36mFile \u001b[39m\u001b[32mc:\\Users\\SangminPark\\anaconda3\\envs\\stock_program\\Lib\\site-packages\\matplotlib\\pyplot.py:3827\u001b[39m, in \u001b[36mplot\u001b[39m\u001b[34m(scalex, scaley, data, *args, **kwargs)\u001b[39m\n\u001b[32m   3819\u001b[39m \u001b[38;5;129m@_copy_docstring_and_deprecators\u001b[39m(Axes.plot)\n\u001b[32m   3820\u001b[39m \u001b[38;5;28;01mdef\u001b[39;00m\u001b[38;5;250m \u001b[39m\u001b[34mplot\u001b[39m(\n\u001b[32m   3821\u001b[39m     *args: \u001b[38;5;28mfloat\u001b[39m | ArrayLike | \u001b[38;5;28mstr\u001b[39m,\n\u001b[32m   (...)\u001b[39m\u001b[32m   3825\u001b[39m     **kwargs,\n\u001b[32m   3826\u001b[39m ) -> \u001b[38;5;28mlist\u001b[39m[Line2D]:\n\u001b[32m-> \u001b[39m\u001b[32m3827\u001b[39m     \u001b[38;5;28;01mreturn\u001b[39;00m \u001b[43mgca\u001b[49m\u001b[43m(\u001b[49m\u001b[43m)\u001b[49m.plot(\n\u001b[32m   3828\u001b[39m         *args,\n\u001b[32m   3829\u001b[39m         scalex=scalex,\n\u001b[32m   3830\u001b[39m         scaley=scaley,\n\u001b[32m   3831\u001b[39m         **({\u001b[33m\"\u001b[39m\u001b[33mdata\u001b[39m\u001b[33m\"\u001b[39m: data} \u001b[38;5;28;01mif\u001b[39;00m data \u001b[38;5;129;01mis\u001b[39;00m \u001b[38;5;129;01mnot\u001b[39;00m \u001b[38;5;28;01mNone\u001b[39;00m \u001b[38;5;28;01melse\u001b[39;00m {}),\n\u001b[32m   3832\u001b[39m         **kwargs,\n\u001b[32m   3833\u001b[39m     )\n",
      "\u001b[36mFile \u001b[39m\u001b[32mc:\\Users\\SangminPark\\anaconda3\\envs\\stock_program\\Lib\\site-packages\\matplotlib\\pyplot.py:2774\u001b[39m, in \u001b[36mgca\u001b[39m\u001b[34m()\u001b[39m\n\u001b[32m   2772\u001b[39m \u001b[38;5;129m@_copy_docstring_and_deprecators\u001b[39m(Figure.gca)\n\u001b[32m   2773\u001b[39m \u001b[38;5;28;01mdef\u001b[39;00m\u001b[38;5;250m \u001b[39m\u001b[34mgca\u001b[39m() -> Axes:\n\u001b[32m-> \u001b[39m\u001b[32m2774\u001b[39m     \u001b[38;5;28;01mreturn\u001b[39;00m \u001b[43mgcf\u001b[49m\u001b[43m(\u001b[49m\u001b[43m)\u001b[49m.gca()\n",
      "\u001b[36mFile \u001b[39m\u001b[32mc:\\Users\\SangminPark\\anaconda3\\envs\\stock_program\\Lib\\site-packages\\matplotlib\\pyplot.py:1108\u001b[39m, in \u001b[36mgcf\u001b[39m\u001b[34m()\u001b[39m\n\u001b[32m   1106\u001b[39m     \u001b[38;5;28;01mreturn\u001b[39;00m manager.canvas.figure\n\u001b[32m   1107\u001b[39m \u001b[38;5;28;01melse\u001b[39;00m:\n\u001b[32m-> \u001b[39m\u001b[32m1108\u001b[39m     \u001b[38;5;28;01mreturn\u001b[39;00m \u001b[43mfigure\u001b[49m\u001b[43m(\u001b[49m\u001b[43m)\u001b[49m\n",
      "\u001b[36mFile \u001b[39m\u001b[32mc:\\Users\\SangminPark\\anaconda3\\envs\\stock_program\\Lib\\site-packages\\matplotlib\\pyplot.py:1042\u001b[39m, in \u001b[36mfigure\u001b[39m\u001b[34m(num, figsize, dpi, facecolor, edgecolor, frameon, FigureClass, clear, **kwargs)\u001b[39m\n\u001b[32m   1032\u001b[39m \u001b[38;5;28;01mif\u001b[39;00m \u001b[38;5;28mlen\u001b[39m(allnums) == max_open_warning >= \u001b[32m1\u001b[39m:\n\u001b[32m   1033\u001b[39m     _api.warn_external(\n\u001b[32m   1034\u001b[39m         \u001b[33mf\u001b[39m\u001b[33m\"\u001b[39m\u001b[33mMore than \u001b[39m\u001b[38;5;132;01m{\u001b[39;00mmax_open_warning\u001b[38;5;132;01m}\u001b[39;00m\u001b[33m figures have been opened. \u001b[39m\u001b[33m\"\u001b[39m\n\u001b[32m   1035\u001b[39m         \u001b[33mf\u001b[39m\u001b[33m\"\u001b[39m\u001b[33mFigures created through the pyplot interface \u001b[39m\u001b[33m\"\u001b[39m\n\u001b[32m   (...)\u001b[39m\u001b[32m   1039\u001b[39m         \u001b[33mf\u001b[39m\u001b[33m\"\u001b[39m\u001b[33mConsider using `matplotlib.pyplot.close()`.\u001b[39m\u001b[33m\"\u001b[39m,\n\u001b[32m   1040\u001b[39m         \u001b[38;5;167;01mRuntimeWarning\u001b[39;00m)\n\u001b[32m-> \u001b[39m\u001b[32m1042\u001b[39m manager = \u001b[43mnew_figure_manager\u001b[49m\u001b[43m(\u001b[49m\n\u001b[32m   1043\u001b[39m \u001b[43m    \u001b[49m\u001b[43mnum\u001b[49m\u001b[43m,\u001b[49m\u001b[43m \u001b[49m\u001b[43mfigsize\u001b[49m\u001b[43m=\u001b[49m\u001b[43mfigsize\u001b[49m\u001b[43m,\u001b[49m\u001b[43m \u001b[49m\u001b[43mdpi\u001b[49m\u001b[43m=\u001b[49m\u001b[43mdpi\u001b[49m\u001b[43m,\u001b[49m\n\u001b[32m   1044\u001b[39m \u001b[43m    \u001b[49m\u001b[43mfacecolor\u001b[49m\u001b[43m=\u001b[49m\u001b[43mfacecolor\u001b[49m\u001b[43m,\u001b[49m\u001b[43m \u001b[49m\u001b[43medgecolor\u001b[49m\u001b[43m=\u001b[49m\u001b[43medgecolor\u001b[49m\u001b[43m,\u001b[49m\u001b[43m \u001b[49m\u001b[43mframeon\u001b[49m\u001b[43m=\u001b[49m\u001b[43mframeon\u001b[49m\u001b[43m,\u001b[49m\n\u001b[32m   1045\u001b[39m \u001b[43m    \u001b[49m\u001b[43mFigureClass\u001b[49m\u001b[43m=\u001b[49m\u001b[43mFigureClass\u001b[49m\u001b[43m,\u001b[49m\u001b[43m \u001b[49m\u001b[43m*\u001b[49m\u001b[43m*\u001b[49m\u001b[43mkwargs\u001b[49m\u001b[43m)\u001b[49m\n\u001b[32m   1046\u001b[39m fig = manager.canvas.figure\n\u001b[32m   1047\u001b[39m \u001b[38;5;28;01mif\u001b[39;00m fig_label:\n",
      "\u001b[36mFile \u001b[39m\u001b[32mc:\\Users\\SangminPark\\anaconda3\\envs\\stock_program\\Lib\\site-packages\\matplotlib\\pyplot.py:551\u001b[39m, in \u001b[36mnew_figure_manager\u001b[39m\u001b[34m(*args, **kwargs)\u001b[39m\n\u001b[32m    549\u001b[39m \u001b[38;5;28;01mdef\u001b[39;00m\u001b[38;5;250m \u001b[39m\u001b[34mnew_figure_manager\u001b[39m(*args, **kwargs):\n\u001b[32m    550\u001b[39m \u001b[38;5;250m    \u001b[39m\u001b[33;03m\"\"\"Create a new figure manager instance.\"\"\"\u001b[39;00m\n\u001b[32m--> \u001b[39m\u001b[32m551\u001b[39m     \u001b[43m_warn_if_gui_out_of_main_thread\u001b[49m\u001b[43m(\u001b[49m\u001b[43m)\u001b[49m\n\u001b[32m    552\u001b[39m     \u001b[38;5;28;01mreturn\u001b[39;00m _get_backend_mod().new_figure_manager(*args, **kwargs)\n",
      "\u001b[36mFile \u001b[39m\u001b[32mc:\\Users\\SangminPark\\anaconda3\\envs\\stock_program\\Lib\\site-packages\\matplotlib\\pyplot.py:528\u001b[39m, in \u001b[36m_warn_if_gui_out_of_main_thread\u001b[39m\u001b[34m()\u001b[39m\n\u001b[32m    526\u001b[39m \u001b[38;5;28;01mdef\u001b[39;00m\u001b[38;5;250m \u001b[39m\u001b[34m_warn_if_gui_out_of_main_thread\u001b[39m() -> \u001b[38;5;28;01mNone\u001b[39;00m:\n\u001b[32m    527\u001b[39m     warn = \u001b[38;5;28;01mFalse\u001b[39;00m\n\u001b[32m--> \u001b[39m\u001b[32m528\u001b[39m     canvas_class = cast(\u001b[38;5;28mtype\u001b[39m[FigureCanvasBase], \u001b[43m_get_backend_mod\u001b[49m\u001b[43m(\u001b[49m\u001b[43m)\u001b[49m.FigureCanvas)\n\u001b[32m    529\u001b[39m     \u001b[38;5;28;01mif\u001b[39;00m canvas_class.required_interactive_framework:\n\u001b[32m    530\u001b[39m         \u001b[38;5;28;01mif\u001b[39;00m \u001b[38;5;28mhasattr\u001b[39m(threading, \u001b[33m'\u001b[39m\u001b[33mget_native_id\u001b[39m\u001b[33m'\u001b[39m):\n\u001b[32m    531\u001b[39m             \u001b[38;5;66;03m# This compares native thread ids because even if Python-level\u001b[39;00m\n\u001b[32m    532\u001b[39m             \u001b[38;5;66;03m# Thread objects match, the underlying OS thread (which is what\u001b[39;00m\n\u001b[32m    533\u001b[39m             \u001b[38;5;66;03m# really matters) may be different on Python implementations with\u001b[39;00m\n\u001b[32m    534\u001b[39m             \u001b[38;5;66;03m# green threads.\u001b[39;00m\n",
      "\u001b[36mFile \u001b[39m\u001b[32mc:\\Users\\SangminPark\\anaconda3\\envs\\stock_program\\Lib\\site-packages\\matplotlib\\pyplot.py:369\u001b[39m, in \u001b[36m_get_backend_mod\u001b[39m\u001b[34m()\u001b[39m\n\u001b[32m    360\u001b[39m \u001b[38;5;250m\u001b[39m\u001b[33;03m\"\"\"\u001b[39;00m\n\u001b[32m    361\u001b[39m \u001b[33;03mEnsure that a backend is selected and return it.\u001b[39;00m\n\u001b[32m    362\u001b[39m \n\u001b[32m    363\u001b[39m \u001b[33;03mThis is currently private, but may be made public in the future.\u001b[39;00m\n\u001b[32m    364\u001b[39m \u001b[33;03m\"\"\"\u001b[39;00m\n\u001b[32m    365\u001b[39m \u001b[38;5;28;01mif\u001b[39;00m _backend_mod \u001b[38;5;129;01mis\u001b[39;00m \u001b[38;5;28;01mNone\u001b[39;00m:\n\u001b[32m    366\u001b[39m     \u001b[38;5;66;03m# Use rcParams._get(\"backend\") to avoid going through the fallback\u001b[39;00m\n\u001b[32m    367\u001b[39m     \u001b[38;5;66;03m# logic (which will (re)import pyplot and then call switch_backend if\u001b[39;00m\n\u001b[32m    368\u001b[39m     \u001b[38;5;66;03m# we need to resolve the auto sentinel)\u001b[39;00m\n\u001b[32m--> \u001b[39m\u001b[32m369\u001b[39m     \u001b[43mswitch_backend\u001b[49m\u001b[43m(\u001b[49m\u001b[43mrcParams\u001b[49m\u001b[43m.\u001b[49m\u001b[43m_get\u001b[49m\u001b[43m(\u001b[49m\u001b[33;43m\"\u001b[39;49m\u001b[33;43mbackend\u001b[39;49m\u001b[33;43m\"\u001b[39;49m\u001b[43m)\u001b[49m\u001b[43m)\u001b[49m\n\u001b[32m    370\u001b[39m \u001b[38;5;28;01mreturn\u001b[39;00m cast(\u001b[38;5;28mtype\u001b[39m[matplotlib.backend_bases._Backend], _backend_mod)\n",
      "\u001b[36mFile \u001b[39m\u001b[32mc:\\Users\\SangminPark\\anaconda3\\envs\\stock_program\\Lib\\site-packages\\matplotlib\\pyplot.py:425\u001b[39m, in \u001b[36mswitch_backend\u001b[39m\u001b[34m(newbackend)\u001b[39m\n\u001b[32m    422\u001b[39m         \u001b[38;5;28;01mreturn\u001b[39;00m\n\u001b[32m    423\u001b[39m old_backend = rcParams._get(\u001b[33m'\u001b[39m\u001b[33mbackend\u001b[39m\u001b[33m'\u001b[39m)  \u001b[38;5;66;03m# get without triggering backend resolution\u001b[39;00m\n\u001b[32m--> \u001b[39m\u001b[32m425\u001b[39m module = \u001b[43mbackend_registry\u001b[49m\u001b[43m.\u001b[49m\u001b[43mload_backend_module\u001b[49m\u001b[43m(\u001b[49m\u001b[43mnewbackend\u001b[49m\u001b[43m)\u001b[49m\n\u001b[32m    426\u001b[39m canvas_class = module.FigureCanvas\n\u001b[32m    428\u001b[39m required_framework = canvas_class.required_interactive_framework\n",
      "\u001b[36mFile \u001b[39m\u001b[32mc:\\Users\\SangminPark\\anaconda3\\envs\\stock_program\\Lib\\site-packages\\matplotlib\\backends\\registry.py:317\u001b[39m, in \u001b[36mBackendRegistry.load_backend_module\u001b[39m\u001b[34m(self, backend)\u001b[39m\n\u001b[32m    303\u001b[39m \u001b[38;5;250m\u001b[39m\u001b[33;03m\"\"\"\u001b[39;00m\n\u001b[32m    304\u001b[39m \u001b[33;03mLoad and return the module containing the specified backend.\u001b[39;00m\n\u001b[32m    305\u001b[39m \n\u001b[32m   (...)\u001b[39m\u001b[32m    314\u001b[39m \u001b[33;03m    Module containing backend.\u001b[39;00m\n\u001b[32m    315\u001b[39m \u001b[33;03m\"\"\"\u001b[39;00m\n\u001b[32m    316\u001b[39m module_name = \u001b[38;5;28mself\u001b[39m._backend_module_name(backend)\n\u001b[32m--> \u001b[39m\u001b[32m317\u001b[39m \u001b[38;5;28;01mreturn\u001b[39;00m \u001b[43mimportlib\u001b[49m\u001b[43m.\u001b[49m\u001b[43mimport_module\u001b[49m\u001b[43m(\u001b[49m\u001b[43mmodule_name\u001b[49m\u001b[43m)\u001b[49m\n",
      "\u001b[36mFile \u001b[39m\u001b[32mc:\\Users\\SangminPark\\anaconda3\\envs\\stock_program\\Lib\\importlib\\__init__.py:126\u001b[39m, in \u001b[36mimport_module\u001b[39m\u001b[34m(name, package)\u001b[39m\n\u001b[32m    124\u001b[39m             \u001b[38;5;28;01mbreak\u001b[39;00m\n\u001b[32m    125\u001b[39m         level += \u001b[32m1\u001b[39m\n\u001b[32m--> \u001b[39m\u001b[32m126\u001b[39m \u001b[38;5;28;01mreturn\u001b[39;00m \u001b[43m_bootstrap\u001b[49m\u001b[43m.\u001b[49m\u001b[43m_gcd_import\u001b[49m\u001b[43m(\u001b[49m\u001b[43mname\u001b[49m\u001b[43m[\u001b[49m\u001b[43mlevel\u001b[49m\u001b[43m:\u001b[49m\u001b[43m]\u001b[49m\u001b[43m,\u001b[49m\u001b[43m \u001b[49m\u001b[43mpackage\u001b[49m\u001b[43m,\u001b[49m\u001b[43m \u001b[49m\u001b[43mlevel\u001b[49m\u001b[43m)\u001b[49m\n",
      "\u001b[36mFile \u001b[39m\u001b[32m<frozen importlib._bootstrap>:1204\u001b[39m, in \u001b[36m_gcd_import\u001b[39m\u001b[34m(name, package, level)\u001b[39m\n",
      "\u001b[36mFile \u001b[39m\u001b[32m<frozen importlib._bootstrap>:1176\u001b[39m, in \u001b[36m_find_and_load\u001b[39m\u001b[34m(name, import_)\u001b[39m\n",
      "\u001b[36mFile \u001b[39m\u001b[32m<frozen importlib._bootstrap>:1147\u001b[39m, in \u001b[36m_find_and_load_unlocked\u001b[39m\u001b[34m(name, import_)\u001b[39m\n",
      "\u001b[36mFile \u001b[39m\u001b[32m<frozen importlib._bootstrap>:690\u001b[39m, in \u001b[36m_load_unlocked\u001b[39m\u001b[34m(spec)\u001b[39m\n",
      "\u001b[36mFile \u001b[39m\u001b[32m<frozen importlib._bootstrap_external>:940\u001b[39m, in \u001b[36mexec_module\u001b[39m\u001b[34m(self, module)\u001b[39m\n",
      "\u001b[36mFile \u001b[39m\u001b[32m<frozen importlib._bootstrap>:241\u001b[39m, in \u001b[36m_call_with_frames_removed\u001b[39m\u001b[34m(f, *args, **kwds)\u001b[39m\n",
      "\u001b[36mFile \u001b[39m\u001b[32mc:\\Users\\SangminPark\\anaconda3\\envs\\stock_program\\Lib\\site-packages\\matplotlib\\backends\\backend_qt5agg.py:7\u001b[39m\n\u001b[32m      4\u001b[39m \u001b[38;5;28;01mfrom\u001b[39;00m\u001b[38;5;250m \u001b[39m\u001b[34;01m.\u001b[39;00m\u001b[34;01m.\u001b[39;00m\u001b[38;5;250m \u001b[39m\u001b[38;5;28;01mimport\u001b[39;00m backends\n\u001b[32m      6\u001b[39m backends._QT_FORCE_QT5_BINDING = \u001b[38;5;28;01mTrue\u001b[39;00m\n\u001b[32m----> \u001b[39m\u001b[32m7\u001b[39m \u001b[38;5;28;01mfrom\u001b[39;00m\u001b[38;5;250m \u001b[39m\u001b[34;01m.\u001b[39;00m\u001b[34;01mbackend_qtagg\u001b[39;00m\u001b[38;5;250m \u001b[39m\u001b[38;5;28;01mimport\u001b[39;00m (    \u001b[38;5;66;03m# noqa: F401, E402 # pylint: disable=W0611\u001b[39;00m\n\u001b[32m      8\u001b[39m     _BackendQTAgg, FigureCanvasQTAgg, FigureManagerQT, NavigationToolbar2QT,\n\u001b[32m      9\u001b[39m     FigureCanvasAgg, FigureCanvasQT)\n\u001b[32m     12\u001b[39m \u001b[38;5;129m@_BackendQTAgg\u001b[39m.export\n\u001b[32m     13\u001b[39m \u001b[38;5;28;01mclass\u001b[39;00m\u001b[38;5;250m \u001b[39m\u001b[34;01m_BackendQT5Agg\u001b[39;00m(_BackendQTAgg):\n\u001b[32m     14\u001b[39m     \u001b[38;5;28;01mpass\u001b[39;00m\n",
      "\u001b[36mFile \u001b[39m\u001b[32mc:\\Users\\SangminPark\\anaconda3\\envs\\stock_program\\Lib\\site-packages\\matplotlib\\backends\\backend_qtagg.py:9\u001b[39m\n\u001b[32m      5\u001b[39m \u001b[38;5;28;01mimport\u001b[39;00m\u001b[38;5;250m \u001b[39m\u001b[34;01mctypes\u001b[39;00m\n\u001b[32m      7\u001b[39m \u001b[38;5;28;01mfrom\u001b[39;00m\u001b[38;5;250m \u001b[39m\u001b[34;01mmatplotlib\u001b[39;00m\u001b[34;01m.\u001b[39;00m\u001b[34;01mtransforms\u001b[39;00m\u001b[38;5;250m \u001b[39m\u001b[38;5;28;01mimport\u001b[39;00m Bbox\n\u001b[32m----> \u001b[39m\u001b[32m9\u001b[39m \u001b[38;5;28;01mfrom\u001b[39;00m\u001b[38;5;250m \u001b[39m\u001b[34;01m.\u001b[39;00m\u001b[34;01mqt_compat\u001b[39;00m\u001b[38;5;250m \u001b[39m\u001b[38;5;28;01mimport\u001b[39;00m QT_API, QtCore, QtGui\n\u001b[32m     10\u001b[39m \u001b[38;5;28;01mfrom\u001b[39;00m\u001b[38;5;250m \u001b[39m\u001b[34;01m.\u001b[39;00m\u001b[34;01mbackend_agg\u001b[39;00m\u001b[38;5;250m \u001b[39m\u001b[38;5;28;01mimport\u001b[39;00m FigureCanvasAgg\n\u001b[32m     11\u001b[39m \u001b[38;5;28;01mfrom\u001b[39;00m\u001b[38;5;250m \u001b[39m\u001b[34;01m.\u001b[39;00m\u001b[34;01mbackend_qt\u001b[39;00m\u001b[38;5;250m \u001b[39m\u001b[38;5;28;01mimport\u001b[39;00m _BackendQT, FigureCanvasQT\n",
      "\u001b[36mFile \u001b[39m\u001b[32mc:\\Users\\SangminPark\\anaconda3\\envs\\stock_program\\Lib\\site-packages\\matplotlib\\backends\\qt_compat.py:130\u001b[39m\n\u001b[32m    128\u001b[39m         \u001b[38;5;28;01mbreak\u001b[39;00m\n\u001b[32m    129\u001b[39m     \u001b[38;5;28;01melse\u001b[39;00m:\n\u001b[32m--> \u001b[39m\u001b[32m130\u001b[39m         \u001b[38;5;28;01mraise\u001b[39;00m \u001b[38;5;167;01mImportError\u001b[39;00m(\n\u001b[32m    131\u001b[39m             \u001b[33m\"\u001b[39m\u001b[33mFailed to import any of the following Qt binding modules: \u001b[39m\u001b[38;5;132;01m{}\u001b[39;00m\u001b[33m\"\u001b[39m\n\u001b[32m    132\u001b[39m             .format(\u001b[33m\"\u001b[39m\u001b[33m, \u001b[39m\u001b[33m\"\u001b[39m.join([QT_API \u001b[38;5;28;01mfor\u001b[39;00m _, QT_API \u001b[38;5;129;01min\u001b[39;00m _candidates]))\n\u001b[32m    133\u001b[39m         )\n\u001b[32m    134\u001b[39m \u001b[38;5;28;01melse\u001b[39;00m:  \u001b[38;5;66;03m# We should not get there.\u001b[39;00m\n\u001b[32m    135\u001b[39m     \u001b[38;5;28;01mraise\u001b[39;00m \u001b[38;5;167;01mAssertionError\u001b[39;00m(\u001b[33mf\u001b[39m\u001b[33m\"\u001b[39m\u001b[33mUnexpected QT_API: \u001b[39m\u001b[38;5;132;01m{\u001b[39;00mQT_API\u001b[38;5;132;01m}\u001b[39;00m\u001b[33m\"\u001b[39m)\n",
      "\u001b[31mImportError\u001b[39m: Failed to import any of the following Qt binding modules: PyQt5, PySide2"
     ]
    }
   ],
   "source": [
    "# 결측치 처리 결과 시각화\n",
    "plt.plot(df['CO(GT)'], label='actual', zorder=10)\n",
    "plt.plot(imp_linear, label='linear interpolation', zorder=3)\n",
    "plt.plot(imp_nocb, label='nocb', zorder=2)\n",
    "plt.plot(imp_locf, label='locf', zorder=1)\n",
    "plt.plot(imp_mean, label='mean substitution', zorder=4)\n",
    "plt.plot(imp_df['CO(GT)'], label='k-nearest neighbor', zorder=5)\n",
    "plt.legend(loc='best')\n",
    "plt.show()"
   ]
  }
 ],
 "metadata": {
  "kernelspec": {
   "display_name": "stock_program",
   "language": "python",
   "name": "python3"
  },
  "language_info": {
   "codemirror_mode": {
    "name": "ipython",
    "version": 3
   },
   "file_extension": ".py",
   "mimetype": "text/x-python",
   "name": "python",
   "nbconvert_exporter": "python",
   "pygments_lexer": "ipython3",
   "version": "3.11.11"
  }
 },
 "nbformat": 4,
 "nbformat_minor": 4
}
